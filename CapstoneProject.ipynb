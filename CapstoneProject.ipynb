{
 "cells": [
  {
   "cell_type": "markdown",
   "id": "7f94445e-aa84-42ea-b00d-1e745c4329cc",
   "metadata": {},
   "source": [
    "# MOVIE ANALYSIS\n",
    "\n",
    "The objective of this project is to perform a comprehensive analysis of movie data, encompassing thorough data cleaning and insightful visualizations using Seaborn and Matplotlib. The key goals include extracting meaningful insights about movie trends, director popularity, country-wise movie production, and genre preferences."
   ]
  },
  {
   "cell_type": "markdown",
   "id": "866f61af-09ef-4585-b3b8-ab7e1a66fe26",
   "metadata": {},
   "source": [
    "### Overview\n",
    "This analysis focuses on a subset of Netflix's content catalog, including movies and TV shows. The dataset contains attributes such as show ID, type, title, director, country, date added, rating, duration, and listed_in (genres). We aim to explore the relationships between these attributes to gain insights into the content on Netflix. The dataset consists of 8,790 rows and 9 columns."
   ]
  },
  {
   "cell_type": "markdown",
   "id": "3a99da0e-d3c7-4ce8-9d3e-0118cbb93a3e",
   "metadata": {},
   "source": [
    "### Variables\n",
    "\n",
    "Date Added: The date when the content was added to Netflix.\n",
    "Rating: The content rating, such as TV-MA, PG-13, etc., which indicates the appropriate audience for the content.\n",
    "Duration: The length of the movie in minutes or the number of seasons for TV shows.\n",
    "Listed_in ( Genres): The genres under which the content is categorized, such as Dramas, Comedies, etc."
   ]
  },
  {
   "cell_type": "markdown",
   "id": "57889f30-f0d9-4d9f-9e9d-2d3f3e1606b4",
   "metadata": {},
   "source": [
    "## DATA GATHERING \n",
    "\n",
    "First, let us begin by acquiring the necessary tools for our analysis and importing our dataset."
   ]
  },
  {
   "cell_type": "code",
   "execution_count": 1,
   "id": "41a96d51-c5d0-4eef-b913-e11ea0a13663",
   "metadata": {},
   "outputs": [],
   "source": [
    "# Import necessary Libraries \n",
    "import pandas as pd\n",
    "import numpy as np\n",
    "from datetime import datetime\n",
    "from collections import Counter\n",
    "import matplotlib.pyplot as plt\n",
    "import seaborn as sns\n",
    "\n",
    "# Load data \n",
    "data = pd.read_csv(r\"C:\\Users\\USER\\Downloads\\capstone - capstone.csv\")\n",
    "\n",
    "# Creating a copy of the dataframe \n",
    "dt = data.copy()"
   ]
  },
  {
   "cell_type": "markdown",
   "id": "6ffdbace-a7b3-44dd-ba28-42daadd58505",
   "metadata": {},
   "source": [
    "#### I then proceed to familiarize myself with the data while keeping in mind the aim of my analysis(diving into the movie data to extract to extract meaningful insights about movie trends, director popularity, country-wise movie production, and genre preferences) During this process, we derive some interesting questions which could help do a proper exploratory data analysis"
   ]
  },
  {
   "cell_type": "code",
   "execution_count": 2,
   "id": "3d27382e-4db7-4582-85c5-e19e8c983d00",
   "metadata": {},
   "outputs": [
    {
     "data": {
      "text/html": [
       "<div>\n",
       "<style scoped>\n",
       "    .dataframe tbody tr th:only-of-type {\n",
       "        vertical-align: middle;\n",
       "    }\n",
       "\n",
       "    .dataframe tbody tr th {\n",
       "        vertical-align: top;\n",
       "    }\n",
       "\n",
       "    .dataframe thead th {\n",
       "        text-align: right;\n",
       "    }\n",
       "</style>\n",
       "<table border=\"1\" class=\"dataframe\">\n",
       "  <thead>\n",
       "    <tr style=\"text-align: right;\">\n",
       "      <th></th>\n",
       "      <th>show_id</th>\n",
       "      <th>Type</th>\n",
       "      <th>title</th>\n",
       "      <th>director</th>\n",
       "      <th>Country</th>\n",
       "      <th>date added</th>\n",
       "      <th>rating</th>\n",
       "      <th>duration</th>\n",
       "      <th>listed_in</th>\n",
       "    </tr>\n",
       "  </thead>\n",
       "  <tbody>\n",
       "    <tr>\n",
       "      <th>0</th>\n",
       "      <td>s1</td>\n",
       "      <td>Movie</td>\n",
       "      <td>DICK jOHNSON IS deAD</td>\n",
       "      <td>Kirsten Johnson</td>\n",
       "      <td>United States</td>\n",
       "      <td>9/25/2021</td>\n",
       "      <td>PG-13</td>\n",
       "      <td>90 min</td>\n",
       "      <td>Documentaries</td>\n",
       "    </tr>\n",
       "    <tr>\n",
       "      <th>1</th>\n",
       "      <td>s3</td>\n",
       "      <td>TV Show</td>\n",
       "      <td>GANGLANdS</td>\n",
       "      <td>Julien Leclercq</td>\n",
       "      <td>France</td>\n",
       "      <td>(9/24/2021)</td>\n",
       "      <td>TV-MA</td>\n",
       "      <td>1 Season</td>\n",
       "      <td>Crime TV Shows, International TV Shows, TV Act...</td>\n",
       "    </tr>\n",
       "    <tr>\n",
       "      <th>2</th>\n",
       "      <td>s6</td>\n",
       "      <td>TV Show</td>\n",
       "      <td>MIDNIgHT MASS</td>\n",
       "      <td>Mike Flanagan</td>\n",
       "      <td>United States</td>\n",
       "      <td>(9/24/2021)</td>\n",
       "      <td>TV-MA</td>\n",
       "      <td>1 Season</td>\n",
       "      <td>TV Dramas, TV Horror, TV Mysteries</td>\n",
       "    </tr>\n",
       "    <tr>\n",
       "      <th>3</th>\n",
       "      <td>s14</td>\n",
       "      <td>Movie</td>\n",
       "      <td>COnfESsIoNs OF AN INVISIBLE GIRL</td>\n",
       "      <td>Bruno Garotti</td>\n",
       "      <td>Brazil</td>\n",
       "      <td>9/22/2021</td>\n",
       "      <td>TV-PG</td>\n",
       "      <td>91 min</td>\n",
       "      <td>Children &amp; Family Movies, Comedies</td>\n",
       "    </tr>\n",
       "    <tr>\n",
       "      <th>4</th>\n",
       "      <td>s8</td>\n",
       "      <td>Movie</td>\n",
       "      <td>sANKOFa</td>\n",
       "      <td>Haile Gerima</td>\n",
       "      <td>Us</td>\n",
       "      <td>9/24/2021</td>\n",
       "      <td>TV-MA</td>\n",
       "      <td>125 min</td>\n",
       "      <td>Dramas, Independent Movies, International Movies</td>\n",
       "    </tr>\n",
       "    <tr>\n",
       "      <th>5</th>\n",
       "      <td>s9</td>\n",
       "      <td>TV Show</td>\n",
       "      <td>THE gREAT BrITisH bAKING sHOW</td>\n",
       "      <td>Andy Devonshire</td>\n",
       "      <td>UK</td>\n",
       "      <td>9/24/2021</td>\n",
       "      <td>TV-14</td>\n",
       "      <td>9 Seasons</td>\n",
       "      <td>British TV Shows, Reality TV</td>\n",
       "    </tr>\n",
       "    <tr>\n",
       "      <th>6</th>\n",
       "      <td>s10</td>\n",
       "      <td>Movie</td>\n",
       "      <td>tHE STARLING</td>\n",
       "      <td>Theodore Melfi</td>\n",
       "      <td>United States</td>\n",
       "      <td>9/24/2021</td>\n",
       "      <td>PG-13</td>\n",
       "      <td>104 min</td>\n",
       "      <td>Comedies, Dramas</td>\n",
       "    </tr>\n",
       "    <tr>\n",
       "      <th>7</th>\n",
       "      <td>s939</td>\n",
       "      <td>Mvie</td>\n",
       "      <td>MOTU paTLU IN ThE gAME Of ZOnES</td>\n",
       "      <td>Suhas Kadav</td>\n",
       "      <td>India</td>\n",
       "      <td>5/1/2021</td>\n",
       "      <td>TV-Y7</td>\n",
       "      <td>87 min</td>\n",
       "      <td>Children &amp; Family Movies, Comedies, Music &amp; Mu...</td>\n",
       "    </tr>\n",
       "    <tr>\n",
       "      <th>8</th>\n",
       "      <td>s13</td>\n",
       "      <td>Movie</td>\n",
       "      <td>jE SUIs kaRL</td>\n",
       "      <td>Christian Schwochow</td>\n",
       "      <td>Germany</td>\n",
       "      <td>9/23/2021</td>\n",
       "      <td>TV-MA</td>\n",
       "      <td>127 min</td>\n",
       "      <td>Dramas, International Movies</td>\n",
       "    </tr>\n",
       "    <tr>\n",
       "      <th>9</th>\n",
       "      <td>s940</td>\n",
       "      <td>Movie</td>\n",
       "      <td>mOTU PAtlu IN WONDERLaND</td>\n",
       "      <td>Suhas Kadav</td>\n",
       "      <td>India</td>\n",
       "      <td>5/1/2021</td>\n",
       "      <td>TV-Y7</td>\n",
       "      <td>76 min</td>\n",
       "      <td>Children &amp; Family Movies, Music &amp; Musicals</td>\n",
       "    </tr>\n",
       "    <tr>\n",
       "      <th>10</th>\n",
       "      <td>s941</td>\n",
       "      <td>Movie</td>\n",
       "      <td>MOtU paTLU: DEEP SEa ADVENTURe</td>\n",
       "      <td>Suhas Kadav</td>\n",
       "      <td>India</td>\n",
       "      <td>5/1/2021</td>\n",
       "      <td>TV-Y7</td>\n",
       "      <td>76 min</td>\n",
       "      <td>Children &amp; Family Movies, Comedies</td>\n",
       "    </tr>\n",
       "    <tr>\n",
       "      <th>11</th>\n",
       "      <td>s942</td>\n",
       "      <td>Movie</td>\n",
       "      <td>MOtU PAtLu: MISSION MOON</td>\n",
       "      <td>Suhas Kadav</td>\n",
       "      <td>India</td>\n",
       "      <td>5/1/2021</td>\n",
       "      <td>TV-Y7</td>\n",
       "      <td>71 min</td>\n",
       "      <td>Children &amp; Family Movies, Comedies</td>\n",
       "    </tr>\n",
       "    <tr>\n",
       "      <th>12</th>\n",
       "      <td>s852</td>\n",
       "      <td>Movie</td>\n",
       "      <td>99 SONGS (TAMIL)</td>\n",
       "      <td>Not Given</td>\n",
       "      <td>PK</td>\n",
       "      <td>5/21/2021</td>\n",
       "      <td>TV-14</td>\n",
       "      <td>131 min</td>\n",
       "      <td>Dramas, International Movies, Music &amp; Musicals</td>\n",
       "    </tr>\n",
       "    <tr>\n",
       "      <th>13</th>\n",
       "      <td>s471</td>\n",
       "      <td>Movie</td>\n",
       "      <td>BRIDGERtoN - THe aFTeRPaRTY</td>\n",
       "      <td>Krysia Plonka, Kristian Mercado</td>\n",
       "      <td>United States</td>\n",
       "      <td>7/13/2021</td>\n",
       "      <td>TV-14</td>\n",
       "      <td>39 min</td>\n",
       "      <td>Movies</td>\n",
       "    </tr>\n",
       "    <tr>\n",
       "      <th>14</th>\n",
       "      <td>s730</td>\n",
       "      <td>Movie</td>\n",
       "      <td>BLInG EMPirE - THE aFTERPaRTy</td>\n",
       "      <td>Krysia Plonka, Kristian Mercado</td>\n",
       "      <td>US</td>\n",
       "      <td>6/12/2021</td>\n",
       "      <td>TV-MA</td>\n",
       "      <td>36 min</td>\n",
       "      <td>Movies</td>\n",
       "    </tr>\n",
       "  </tbody>\n",
       "</table>\n",
       "</div>"
      ],
      "text/plain": [
       "   show_id     Type                             title  \\\n",
       "0       s1    Movie              DICK jOHNSON IS deAD   \n",
       "1       s3  TV Show                         GANGLANdS   \n",
       "2       s6  TV Show                     MIDNIgHT MASS   \n",
       "3      s14    Movie  COnfESsIoNs OF AN INVISIBLE GIRL   \n",
       "4       s8    Movie                           sANKOFa   \n",
       "5       s9  TV Show     THE gREAT BrITisH bAKING sHOW   \n",
       "6      s10    Movie                      tHE STARLING   \n",
       "7     s939     Mvie   MOTU paTLU IN ThE gAME Of ZOnES   \n",
       "8      s13    Movie                      jE SUIs kaRL   \n",
       "9     s940    Movie          mOTU PAtlu IN WONDERLaND   \n",
       "10    s941    Movie    MOtU paTLU: DEEP SEa ADVENTURe   \n",
       "11    s942    Movie          MOtU PAtLu: MISSION MOON   \n",
       "12    s852    Movie                  99 SONGS (TAMIL)   \n",
       "13    s471    Movie       BRIDGERtoN - THe aFTeRPaRTY   \n",
       "14    s730    Movie     BLInG EMPirE - THE aFTERPaRTy   \n",
       "\n",
       "                           director        Country   date added rating  \\\n",
       "0                   Kirsten Johnson  United States    9/25/2021  PG-13   \n",
       "1                   Julien Leclercq         France  (9/24/2021)  TV-MA   \n",
       "2                     Mike Flanagan  United States  (9/24/2021)  TV-MA   \n",
       "3                     Bruno Garotti         Brazil    9/22/2021  TV-PG   \n",
       "4                      Haile Gerima             Us    9/24/2021  TV-MA   \n",
       "5                   Andy Devonshire             UK    9/24/2021  TV-14   \n",
       "6                    Theodore Melfi  United States    9/24/2021  PG-13   \n",
       "7                       Suhas Kadav          India     5/1/2021  TV-Y7   \n",
       "8               Christian Schwochow        Germany    9/23/2021  TV-MA   \n",
       "9                       Suhas Kadav          India     5/1/2021  TV-Y7   \n",
       "10                      Suhas Kadav          India     5/1/2021  TV-Y7   \n",
       "11                      Suhas Kadav          India     5/1/2021  TV-Y7   \n",
       "12                        Not Given             PK    5/21/2021  TV-14   \n",
       "13  Krysia Plonka, Kristian Mercado  United States    7/13/2021  TV-14   \n",
       "14  Krysia Plonka, Kristian Mercado             US    6/12/2021  TV-MA   \n",
       "\n",
       "     duration                                          listed_in  \n",
       "0      90 min                                      Documentaries  \n",
       "1    1 Season  Crime TV Shows, International TV Shows, TV Act...  \n",
       "2    1 Season                 TV Dramas, TV Horror, TV Mysteries  \n",
       "3      91 min                 Children & Family Movies, Comedies  \n",
       "4     125 min   Dramas, Independent Movies, International Movies  \n",
       "5   9 Seasons                       British TV Shows, Reality TV  \n",
       "6     104 min                                   Comedies, Dramas  \n",
       "7      87 min  Children & Family Movies, Comedies, Music & Mu...  \n",
       "8     127 min                       Dramas, International Movies  \n",
       "9      76 min         Children & Family Movies, Music & Musicals  \n",
       "10     76 min                 Children & Family Movies, Comedies  \n",
       "11     71 min                 Children & Family Movies, Comedies  \n",
       "12    131 min     Dramas, International Movies, Music & Musicals  \n",
       "13     39 min                                             Movies  \n",
       "14     36 min                                             Movies  "
      ]
     },
     "execution_count": 2,
     "metadata": {},
     "output_type": "execute_result"
    }
   ],
   "source": [
    "# Previewing the dataframe \n",
    "dt.head(15)"
   ]
  },
  {
   "cell_type": "markdown",
   "id": "c9179f58-14de-4adf-af5c-52a745c13bf3",
   "metadata": {},
   "source": [
    "## DATA QUALITY ASSESSMENT PROCESS : \n",
    "\n",
    "Data quality assessment is a crucial step in ensuring that our data is fit for use in our specific context\r\n",
    "\r\n",
    "In this phase, we assess the structure and content of our data. We crosscheck for data quality and tidiness issues; beginning with inaccurate data types, missing/incomplete dad inconsistent characters, outliers and , duplicatdatand then diving into other problems thatch will be observed as we proceed."
   ]
  },
  {
   "cell_type": "code",
   "execution_count": 3,
   "id": "9a336ba2-56b9-496d-bd9a-adbaed99872e",
   "metadata": {},
   "outputs": [
    {
     "data": {
      "text/html": [
       "<div>\n",
       "<style scoped>\n",
       "    .dataframe tbody tr th:only-of-type {\n",
       "        vertical-align: middle;\n",
       "    }\n",
       "\n",
       "    .dataframe tbody tr th {\n",
       "        vertical-align: top;\n",
       "    }\n",
       "\n",
       "    .dataframe thead th {\n",
       "        text-align: right;\n",
       "    }\n",
       "</style>\n",
       "<table border=\"1\" class=\"dataframe\">\n",
       "  <thead>\n",
       "    <tr style=\"text-align: right;\">\n",
       "      <th></th>\n",
       "      <th>show_id</th>\n",
       "      <th>Type</th>\n",
       "      <th>title</th>\n",
       "      <th>director</th>\n",
       "      <th>Country</th>\n",
       "      <th>date added</th>\n",
       "      <th>rating</th>\n",
       "      <th>duration</th>\n",
       "      <th>listed_in</th>\n",
       "    </tr>\n",
       "  </thead>\n",
       "  <tbody>\n",
       "    <tr>\n",
       "      <th>count</th>\n",
       "      <td>8790</td>\n",
       "      <td>8790</td>\n",
       "      <td>8790</td>\n",
       "      <td>8790</td>\n",
       "      <td>8790</td>\n",
       "      <td>8790</td>\n",
       "      <td>8790</td>\n",
       "      <td>8790</td>\n",
       "      <td>8790</td>\n",
       "    </tr>\n",
       "    <tr>\n",
       "      <th>unique</th>\n",
       "      <td>8790</td>\n",
       "      <td>12</td>\n",
       "      <td>8787</td>\n",
       "      <td>4528</td>\n",
       "      <td>114</td>\n",
       "      <td>1714</td>\n",
       "      <td>23</td>\n",
       "      <td>250</td>\n",
       "      <td>515</td>\n",
       "    </tr>\n",
       "    <tr>\n",
       "      <th>top</th>\n",
       "      <td>s1</td>\n",
       "      <td>Movie</td>\n",
       "      <td>9-Feb</td>\n",
       "      <td>Not Given</td>\n",
       "      <td>United States</td>\n",
       "      <td>1/1/2020</td>\n",
       "      <td>TV-MA</td>\n",
       "      <td>1 Season</td>\n",
       "      <td>Dramas, International Movies</td>\n",
       "    </tr>\n",
       "    <tr>\n",
       "      <th>freq</th>\n",
       "      <td>1</td>\n",
       "      <td>6110</td>\n",
       "      <td>2</td>\n",
       "      <td>2588</td>\n",
       "      <td>2920</td>\n",
       "      <td>110</td>\n",
       "      <td>3203</td>\n",
       "      <td>1788</td>\n",
       "      <td>362</td>\n",
       "    </tr>\n",
       "  </tbody>\n",
       "</table>\n",
       "</div>"
      ],
      "text/plain": [
       "       show_id   Type  title   director        Country date added rating  \\\n",
       "count     8790   8790   8790       8790           8790       8790   8790   \n",
       "unique    8790     12   8787       4528            114       1714     23   \n",
       "top         s1  Movie  9-Feb  Not Given  United States   1/1/2020  TV-MA   \n",
       "freq         1   6110      2       2588           2920        110   3203   \n",
       "\n",
       "        duration                     listed_in  \n",
       "count       8790                          8790  \n",
       "unique       250                           515  \n",
       "top     1 Season  Dramas, International Movies  \n",
       "freq        1788                           362  "
      ]
     },
     "execution_count": 3,
     "metadata": {},
     "output_type": "execute_result"
    }
   ],
   "source": [
    "# Getting the descriptive statistics of the data to see if they are any anomalies or patterns \n",
    "dt.describe()"
   ]
  },
  {
   "cell_type": "raw",
   "id": "8383ce7f-5973-46c4-8498-4f980cda62ef",
   "metadata": {},
   "source": [
    "##### These insights highlight the diversity in the dataset, with a predominant focus on movies, significant missing director information, and a strong representation of content from the United States. Popular ratings and genres also provide a glimpse into the type of content that is most common in the dataset."
   ]
  },
  {
   "cell_type": "markdown",
   "id": "a416cd22-39e0-4b08-82f9-9e4ca33b7eac",
   "metadata": {},
   "source": [
    "### Cross checking the data for quality issue, beginning checking the datatype of each column\n",
    "\n",
    "a. Checking for Incorrect Datatype"
   ]
  },
  {
   "cell_type": "code",
   "execution_count": 4,
   "id": "b5efe7c9-3987-4775-9a52-2b738191183a",
   "metadata": {},
   "outputs": [
    {
     "name": "stdout",
     "output_type": "stream",
     "text": [
      "<class 'pandas.core.frame.DataFrame'>\n",
      "RangeIndex: 8790 entries, 0 to 8789\n",
      "Data columns (total 9 columns):\n",
      " #   Column      Non-Null Count  Dtype \n",
      "---  ------      --------------  ----- \n",
      " 0   show_id     8790 non-null   object\n",
      " 1   Type        8790 non-null   object\n",
      " 2   title       8790 non-null   object\n",
      " 3   director    8790 non-null   object\n",
      " 4   Country     8790 non-null   object\n",
      " 5   date added  8790 non-null   object\n",
      " 6   rating      8790 non-null   object\n",
      " 7   duration    8790 non-null   object\n",
      " 8   listed_in   8790 non-null   object\n",
      "dtypes: object(9)\n",
      "memory usage: 618.2+ KB\n"
     ]
    }
   ],
   "source": [
    "# Inspecting the information of the data \n",
    "dt.info()"
   ]
  },
  {
   "cell_type": "markdown",
   "id": "1dcae8f7-0871-44ad-83cb-fb3cb07eb9b8",
   "metadata": {},
   "source": [
    "#### The data types seem appropriate for each column. Now we proceed to check for null values."
   ]
  },
  {
   "cell_type": "raw",
   "id": "85188eb2-4aa5-4480-8e74-1d8d74a64ae4",
   "metadata": {},
   "source": [
    "b. Checking for null values "
   ]
  },
  {
   "cell_type": "code",
   "execution_count": 5,
   "id": "395e712c-5550-4d03-9479-9a5925256d87",
   "metadata": {},
   "outputs": [
    {
     "data": {
      "text/plain": [
       "show_id       0\n",
       "Type          0\n",
       "title         0\n",
       "director      0\n",
       "Country       0\n",
       "date added    0\n",
       "rating        0\n",
       "duration      0\n",
       "listed_in     0\n",
       "dtype: int64"
      ]
     },
     "execution_count": 5,
     "metadata": {},
     "output_type": "execute_result"
    }
   ],
   "source": [
    "# Verify columns with null entries \n",
    "dt.isnull().sum()"
   ]
  },
  {
   "cell_type": "markdown",
   "id": "4141aa3d-7db2-4096-a1bd-5aed75f3536e",
   "metadata": {},
   "source": [
    "#### There are no null values in the columns, our data seems alright, i will proceed to check for duplicates "
   ]
  },
  {
   "cell_type": "raw",
   "id": "80a79ee0-59d5-48bb-a785-eec10a74bd48",
   "metadata": {},
   "source": [
    "c. Checking for duplicates "
   ]
  },
  {
   "cell_type": "code",
   "execution_count": 6,
   "id": "56d589b9-dd41-446d-9ce3-1d29c0d0e790",
   "metadata": {},
   "outputs": [
    {
     "name": "stdout",
     "output_type": "stream",
     "text": [
      "Empty DataFrame\n",
      "Columns: [show_id, Type, title, director, Country, date added, rating, duration, listed_in]\n",
      "Index: []\n"
     ]
    }
   ],
   "source": [
    "# Check for duplicates across all columns\n",
    "duplicate_rows = dt[dt.duplicated(keep=False)]\n",
    "print(duplicate_rows)"
   ]
  },
  {
   "cell_type": "markdown",
   "id": "5fad73d8-0d57-4f88-b2f7-c1b64a639dca",
   "metadata": {},
   "source": [
    "#### Result means that no rows were found to have duplicates across all columns. This indicates that there are no exact duplicates present in your DataFrame where all values across all columns match exactly with another row."
   ]
  },
  {
   "cell_type": "raw",
   "id": "7784233c-8188-43f4-9893-0b7794c7784e",
   "metadata": {},
   "source": [
    "d. Cross Checking that the column names are correct"
   ]
  },
  {
   "cell_type": "code",
   "execution_count": 7,
   "id": "c1bf5b6e-d9e5-49b5-91bc-ccc7967901bc",
   "metadata": {},
   "outputs": [
    {
     "data": {
      "text/plain": [
       "Index(['show_id', 'Type', 'title', 'director', 'Country', 'date added',\n",
       "       'rating', 'duration', 'listed_in'],\n",
       "      dtype='object')"
      ]
     },
     "execution_count": 7,
     "metadata": {},
     "output_type": "execute_result"
    }
   ],
   "source": [
    "# Checking the column names \n",
    "dt.columns"
   ]
  },
  {
   "cell_type": "markdown",
   "id": "e139d924-a60d-46ab-8183-630f923fea2f",
   "metadata": {},
   "source": [
    "#### Result shows the column names in the dataset are correct"
   ]
  },
  {
   "cell_type": "raw",
   "id": "25537e4e-8cc6-49aa-9fd9-b2d28f6f4b0e",
   "metadata": {},
   "source": [
    "e. Checking the shape of the data and data size "
   ]
  },
  {
   "cell_type": "code",
   "execution_count": 8,
   "id": "3f59deca-4f6c-4c4f-ac35-241f7a348f4a",
   "metadata": {},
   "outputs": [
    {
     "data": {
      "text/plain": [
       "(8790, 9)"
      ]
     },
     "execution_count": 8,
     "metadata": {},
     "output_type": "execute_result"
    }
   ],
   "source": [
    "# Checking the shape of the dataset \n",
    "dt.shape"
   ]
  },
  {
   "cell_type": "code",
   "execution_count": 9,
   "id": "e0fa24ce-855b-484b-bf98-9da7a0bcf5d7",
   "metadata": {},
   "outputs": [
    {
     "data": {
      "text/plain": [
       "79110"
      ]
     },
     "execution_count": 9,
     "metadata": {},
     "output_type": "execute_result"
    }
   ],
   "source": [
    "# Checking the data size \n",
    "dt.size "
   ]
  },
  {
   "cell_type": "markdown",
   "id": "464fc4e5-7063-4f6e-808b-8e62d3f7447b",
   "metadata": {},
   "source": [
    "#### Result shows that the entire dataset has 8790 rows and 9 columns, and the data size is 79110"
   ]
  },
  {
   "cell_type": "raw",
   "id": "d77ccc2d-a0d2-4abd-9828-7eb2d26c73b6",
   "metadata": {},
   "source": [
    "f. Checking for inconsistent characters in my columns "
   ]
  },
  {
   "cell_type": "code",
   "execution_count": 10,
   "id": "d0f29d0c-498b-44ee-b1a9-9829bece811f",
   "metadata": {},
   "outputs": [
    {
     "name": "stdout",
     "output_type": "stream",
     "text": [
      "Column \"show_id\": set()\n",
      "Column \"Type\": {' '}\n",
      "Column \"title\": {'!', '=', '่', '_', '„', '’', '¡', '้', '-', '“', ' ', ',', '*', ')', ':', '̇', '.', '์', '‘', '(', '+', '&', '–', '%', '|', '?', '¿', '…', '@', '\\u200b', '#', '\\xa0', '~', '/', '”', '\\n', \"'\"}\n",
      "Column \"director\": {'!', ' ', ',', '&', '.', '’', \"'\", '-'}\n",
      "Column \"Country\": {' '}\n",
      "Column \"date added\": {'/', '(', ')'}\n",
      "Column \"rating\": {'-'}\n",
      "Column \"duration\": {' '}\n",
      "Column \"listed_in\": {' ', ',', '&', \"'\", '-'}\n"
     ]
    }
   ],
   "source": [
    "# Function to check inconsistent characters in each column\n",
    "def check_inconsistent_characters(column):\n",
    "    inconsistent_characters = set()\n",
    "    for value in column:\n",
    "        if isinstance(value, str):  # Check if the value is a string\n",
    "            for char in value:\n",
    "                if not char.isalnum():  # Check if the character is not alphanumeric\n",
    "                    inconsistent_characters.add(char)\n",
    "    return inconsistent_characters\n",
    "\n",
    "# Iterate over each column and check for inconsistent characters\n",
    "inconsistent_characters_per_column = {}\n",
    "for column in dt.columns:\n",
    "    inconsistent_characters = check_inconsistent_characters(dt[column])\n",
    "    inconsistent_characters_per_column[column] = inconsistent_characters\n",
    "\n",
    "# Display the inconsistent characters found in each column\n",
    "for column, chars in inconsistent_characters_per_column.items():\n",
    "    print(f'Column \"{column}\": {chars}')"
   ]
  },
  {
   "cell_type": "markdown",
   "id": "dd010e6c-b7b6-453c-9e33-eb4c9cebf16f",
   "metadata": {},
   "source": [
    "#### The results highlight potential inconsistencies or irregularities in the data, which may require further cleaning or preprocessing before analysis.\n",
    "##### show_id:\n",
    "No inconsistent characters were found.\n",
    "\n",
    "##### Type:\n",
    "The only inconsistent character found is a space (' ').\n",
    "\n",
    "##### title:\n",
    "Various inconsistent characters were found, including special characters like '=', '|', '*', '#', and punctuation marks like '.', ',', '?', etc.\n",
    "\n",
    "##### director: \n",
    "Inconsistent characters include punctuation marks like ',', '.', '-', and '&' as well as apostrophes and spaces.\n",
    "\n",
    "##### Country:\n",
    "The only inconsistent character found is a space (' ').\n",
    "\n",
    "##### date added:\n",
    "Inconsistent characters include '/', ')' and '('.\n",
    "\n",
    "##### rating: \n",
    "The only inconsistent character found is a hyphen ('-').\n",
    "\n",
    "##### duration: \n",
    "The only inconsistent character found is a space (' ').\n",
    "\n",
    "##### listed_in:\n",
    "Inconsistent characters include punctuation marks like ',', '-' and '&', as well as apostrophes and spaces."
   ]
  },
  {
   "cell_type": "raw",
   "id": "5bbd2837-ea31-435a-a82e-32bf5618421a",
   "metadata": {},
   "source": [
    "g. Checking for Odd entries "
   ]
  },
  {
   "cell_type": "code",
   "execution_count": 11,
   "id": "eebf5e69-e14b-44ec-ab5d-4cb4cfdd9382",
   "metadata": {},
   "outputs": [
    {
     "name": "stdout",
     "output_type": "stream",
     "text": [
      "Column \"show_id\": []\n",
      "Column \"Type\": []\n",
      "Column \"title\": []\n",
      "Column \"director\": []\n",
      "Column \"Country\": []\n",
      "Column \"date added\": []\n",
      "Column \"rating\": []\n",
      "Column \"duration\": []\n",
      "Column \"listed_in\": []\n"
     ]
    }
   ],
   "source": [
    "# Function to check for odd entries in a column\n",
    "def check_odd_entries(column):\n",
    "    odd_entries = []\n",
    "    for value in column:\n",
    "        if isinstance(value, int):  # Check if the value is an integer\n",
    "            if value % 2 != 0:  # Check if the value is odd\n",
    "                odd_entries.append(value)\n",
    "    return odd_entries\n",
    "\n",
    "# Iterate over each column and check for odd entries\n",
    "odd_entries_per_column = {}\n",
    "for column in dt.columns:\n",
    "    odd_entries = check_odd_entries(dt[column])\n",
    "    odd_entries_per_column[column] = odd_entries\n",
    "\n",
    "# Display the odd entries found in each column\n",
    "for column, entries in odd_entries_per_column.items():\n",
    "    print(f'Column \"{column}\": {entries}')"
   ]
  },
  {
   "cell_type": "markdown",
   "id": "934834e3-38fa-456d-bbf2-8fd000af3023",
   "metadata": {},
   "source": [
    "#### Result shows that there are no odd integer values present in any of the columns in the DataFrame."
   ]
  },
  {
   "cell_type": "markdown",
   "id": "35d1863b-b105-4cf1-9dd8-99580b27caed",
   "metadata": {},
   "source": [
    "## DATA CLEANING PROCESS : \n",
    "In this section of our analysis, we will address the various data quality issues identified, and clean our data to be ready for exploratory analysis and visualization"
   ]
  },
  {
   "cell_type": "markdown",
   "id": "216122b0-b050-4aae-afc5-adef7b0e6975",
   "metadata": {},
   "source": [
    "#### 1. Addressing the date column and converting to the correct datatime"
   ]
  },
  {
   "cell_type": "code",
   "execution_count": 12,
   "id": "8a614db7-fd32-4bdf-8836-bbbbb3a53474",
   "metadata": {},
   "outputs": [],
   "source": [
    "# Convert 'date added' column to string type before using .str accessor\n",
    "dt['date added'] = dt['date added'].astype(str)\n",
    "\n",
    "# Remove parentheses from 'date added' column\n",
    "dt['date added'] = dt['date added'].str.replace(r'[\\(\\)]', '', regex=True)\n",
    "\n",
    "# Convert 'date added' column to datetime\n",
    "dt['date added'] = pd.to_datetime(dt['date added'])"
   ]
  },
  {
   "cell_type": "code",
   "execution_count": 13,
   "id": "f181f003-e2f1-40a0-b635-a8d541691d15",
   "metadata": {},
   "outputs": [
    {
     "data": {
      "text/html": [
       "<div>\n",
       "<style scoped>\n",
       "    .dataframe tbody tr th:only-of-type {\n",
       "        vertical-align: middle;\n",
       "    }\n",
       "\n",
       "    .dataframe tbody tr th {\n",
       "        vertical-align: top;\n",
       "    }\n",
       "\n",
       "    .dataframe thead th {\n",
       "        text-align: right;\n",
       "    }\n",
       "</style>\n",
       "<table border=\"1\" class=\"dataframe\">\n",
       "  <thead>\n",
       "    <tr style=\"text-align: right;\">\n",
       "      <th></th>\n",
       "      <th>show_id</th>\n",
       "      <th>Type</th>\n",
       "      <th>title</th>\n",
       "      <th>director</th>\n",
       "      <th>Country</th>\n",
       "      <th>date added</th>\n",
       "      <th>rating</th>\n",
       "      <th>duration</th>\n",
       "      <th>listed_in</th>\n",
       "    </tr>\n",
       "  </thead>\n",
       "  <tbody>\n",
       "    <tr>\n",
       "      <th>0</th>\n",
       "      <td>s1</td>\n",
       "      <td>Movie</td>\n",
       "      <td>DICK jOHNSON IS deAD</td>\n",
       "      <td>Kirsten Johnson</td>\n",
       "      <td>United States</td>\n",
       "      <td>2021-09-25</td>\n",
       "      <td>PG-13</td>\n",
       "      <td>90 min</td>\n",
       "      <td>Documentaries</td>\n",
       "    </tr>\n",
       "    <tr>\n",
       "      <th>1</th>\n",
       "      <td>s3</td>\n",
       "      <td>TV Show</td>\n",
       "      <td>GANGLANdS</td>\n",
       "      <td>Julien Leclercq</td>\n",
       "      <td>France</td>\n",
       "      <td>2021-09-24</td>\n",
       "      <td>TV-MA</td>\n",
       "      <td>1 Season</td>\n",
       "      <td>Crime TV Shows, International TV Shows, TV Act...</td>\n",
       "    </tr>\n",
       "    <tr>\n",
       "      <th>2</th>\n",
       "      <td>s6</td>\n",
       "      <td>TV Show</td>\n",
       "      <td>MIDNIgHT MASS</td>\n",
       "      <td>Mike Flanagan</td>\n",
       "      <td>United States</td>\n",
       "      <td>2021-09-24</td>\n",
       "      <td>TV-MA</td>\n",
       "      <td>1 Season</td>\n",
       "      <td>TV Dramas, TV Horror, TV Mysteries</td>\n",
       "    </tr>\n",
       "    <tr>\n",
       "      <th>3</th>\n",
       "      <td>s14</td>\n",
       "      <td>Movie</td>\n",
       "      <td>COnfESsIoNs OF AN INVISIBLE GIRL</td>\n",
       "      <td>Bruno Garotti</td>\n",
       "      <td>Brazil</td>\n",
       "      <td>2021-09-22</td>\n",
       "      <td>TV-PG</td>\n",
       "      <td>91 min</td>\n",
       "      <td>Children &amp; Family Movies, Comedies</td>\n",
       "    </tr>\n",
       "    <tr>\n",
       "      <th>4</th>\n",
       "      <td>s8</td>\n",
       "      <td>Movie</td>\n",
       "      <td>sANKOFa</td>\n",
       "      <td>Haile Gerima</td>\n",
       "      <td>Us</td>\n",
       "      <td>2021-09-24</td>\n",
       "      <td>TV-MA</td>\n",
       "      <td>125 min</td>\n",
       "      <td>Dramas, Independent Movies, International Movies</td>\n",
       "    </tr>\n",
       "  </tbody>\n",
       "</table>\n",
       "</div>"
      ],
      "text/plain": [
       "  show_id     Type                             title         director  \\\n",
       "0      s1    Movie              DICK jOHNSON IS deAD  Kirsten Johnson   \n",
       "1      s3  TV Show                         GANGLANdS  Julien Leclercq   \n",
       "2      s6  TV Show                     MIDNIgHT MASS    Mike Flanagan   \n",
       "3     s14    Movie  COnfESsIoNs OF AN INVISIBLE GIRL    Bruno Garotti   \n",
       "4      s8    Movie                           sANKOFa     Haile Gerima   \n",
       "\n",
       "         Country date added rating  duration  \\\n",
       "0  United States 2021-09-25  PG-13    90 min   \n",
       "1         France 2021-09-24  TV-MA  1 Season   \n",
       "2  United States 2021-09-24  TV-MA  1 Season   \n",
       "3         Brazil 2021-09-22  TV-PG    91 min   \n",
       "4             Us 2021-09-24  TV-MA   125 min   \n",
       "\n",
       "                                           listed_in  \n",
       "0                                      Documentaries  \n",
       "1  Crime TV Shows, International TV Shows, TV Act...  \n",
       "2                 TV Dramas, TV Horror, TV Mysteries  \n",
       "3                 Children & Family Movies, Comedies  \n",
       "4   Dramas, Independent Movies, International Movies  "
      ]
     },
     "execution_count": 13,
     "metadata": {},
     "output_type": "execute_result"
    }
   ],
   "source": [
    "# Verifying that the date added column has been converted to the correct date format\n",
    "dt.head()"
   ]
  },
  {
   "cell_type": "markdown",
   "id": "9bf7412b-74a4-4499-8d49-bf5a663cf15c",
   "metadata": {},
   "source": [
    "#### 2. Addressing the Country and Title Column with Abbreviated names have the correct names \n",
    "e.g US - United states, UK - United Kingdom"
   ]
  },
  {
   "cell_type": "code",
   "execution_count": 14,
   "id": "657b3262-9b34-47d8-9263-d5409f19f9e9",
   "metadata": {},
   "outputs": [],
   "source": [
    "# Ensure the 'Country' column has the correct country name using the replace function\n",
    "dt['Country'] = dt['Country'].replace({'UK': 'United Kingdom', 'US': 'United States', 'Us': 'United States', 'PK': 'Pakistan', \n",
    "                                           'HK': 'Hong Kong', 'ID': 'Indonesia', 'ITL': 'Italy', 'nited States': 'United States'})"
   ]
  },
  {
   "cell_type": "code",
   "execution_count": 15,
   "id": "ec333f46-7f6d-4608-8610-4663ea7e85e7",
   "metadata": {},
   "outputs": [],
   "source": [
    "# I observed abbreviated names in the Type Column\n",
    "\n",
    "#Ensure the 'Type' column has the correct Type name using the replace function\n",
    "dt['Type'] = dt['Type'].replace({'m': 'Movie', 'Mv': 'Movie', 'Mve': 'Movie', 'Mvi': 'Movie', 'Mvie': 'Movie',\n",
    "                                 'TV': 'TV Show','TVS' : 'TV Show','MvE' : 'Movie','tv' : 'TV Show','M' : 'Movie' })"
   ]
  },
  {
   "cell_type": "code",
   "execution_count": 16,
   "id": "eee0a7f1-4a5d-4e49-ac0e-b06b3c039501",
   "metadata": {},
   "outputs": [
    {
     "data": {
      "text/html": [
       "<div>\n",
       "<style scoped>\n",
       "    .dataframe tbody tr th:only-of-type {\n",
       "        vertical-align: middle;\n",
       "    }\n",
       "\n",
       "    .dataframe tbody tr th {\n",
       "        vertical-align: top;\n",
       "    }\n",
       "\n",
       "    .dataframe thead th {\n",
       "        text-align: right;\n",
       "    }\n",
       "</style>\n",
       "<table border=\"1\" class=\"dataframe\">\n",
       "  <thead>\n",
       "    <tr style=\"text-align: right;\">\n",
       "      <th></th>\n",
       "      <th>show_id</th>\n",
       "      <th>Type</th>\n",
       "      <th>title</th>\n",
       "      <th>director</th>\n",
       "      <th>Country</th>\n",
       "      <th>date added</th>\n",
       "      <th>rating</th>\n",
       "      <th>duration</th>\n",
       "      <th>listed_in</th>\n",
       "    </tr>\n",
       "  </thead>\n",
       "  <tbody>\n",
       "    <tr>\n",
       "      <th>0</th>\n",
       "      <td>s1</td>\n",
       "      <td>Movie</td>\n",
       "      <td>DICK jOHNSON IS deAD</td>\n",
       "      <td>Kirsten Johnson</td>\n",
       "      <td>United States</td>\n",
       "      <td>2021-09-25</td>\n",
       "      <td>PG-13</td>\n",
       "      <td>90 min</td>\n",
       "      <td>Documentaries</td>\n",
       "    </tr>\n",
       "    <tr>\n",
       "      <th>1</th>\n",
       "      <td>s3</td>\n",
       "      <td>TV Show</td>\n",
       "      <td>GANGLANdS</td>\n",
       "      <td>Julien Leclercq</td>\n",
       "      <td>France</td>\n",
       "      <td>2021-09-24</td>\n",
       "      <td>TV-MA</td>\n",
       "      <td>1 Season</td>\n",
       "      <td>Crime TV Shows, International TV Shows, TV Act...</td>\n",
       "    </tr>\n",
       "    <tr>\n",
       "      <th>2</th>\n",
       "      <td>s6</td>\n",
       "      <td>TV Show</td>\n",
       "      <td>MIDNIgHT MASS</td>\n",
       "      <td>Mike Flanagan</td>\n",
       "      <td>United States</td>\n",
       "      <td>2021-09-24</td>\n",
       "      <td>TV-MA</td>\n",
       "      <td>1 Season</td>\n",
       "      <td>TV Dramas, TV Horror, TV Mysteries</td>\n",
       "    </tr>\n",
       "    <tr>\n",
       "      <th>3</th>\n",
       "      <td>s14</td>\n",
       "      <td>Movie</td>\n",
       "      <td>COnfESsIoNs OF AN INVISIBLE GIRL</td>\n",
       "      <td>Bruno Garotti</td>\n",
       "      <td>Brazil</td>\n",
       "      <td>2021-09-22</td>\n",
       "      <td>TV-PG</td>\n",
       "      <td>91 min</td>\n",
       "      <td>Children &amp; Family Movies, Comedies</td>\n",
       "    </tr>\n",
       "    <tr>\n",
       "      <th>4</th>\n",
       "      <td>s8</td>\n",
       "      <td>Movie</td>\n",
       "      <td>sANKOFa</td>\n",
       "      <td>Haile Gerima</td>\n",
       "      <td>United States</td>\n",
       "      <td>2021-09-24</td>\n",
       "      <td>TV-MA</td>\n",
       "      <td>125 min</td>\n",
       "      <td>Dramas, Independent Movies, International Movies</td>\n",
       "    </tr>\n",
       "  </tbody>\n",
       "</table>\n",
       "</div>"
      ],
      "text/plain": [
       "  show_id     Type                             title         director  \\\n",
       "0      s1    Movie              DICK jOHNSON IS deAD  Kirsten Johnson   \n",
       "1      s3  TV Show                         GANGLANdS  Julien Leclercq   \n",
       "2      s6  TV Show                     MIDNIgHT MASS    Mike Flanagan   \n",
       "3     s14    Movie  COnfESsIoNs OF AN INVISIBLE GIRL    Bruno Garotti   \n",
       "4      s8    Movie                           sANKOFa     Haile Gerima   \n",
       "\n",
       "         Country date added rating  duration  \\\n",
       "0  United States 2021-09-25  PG-13    90 min   \n",
       "1         France 2021-09-24  TV-MA  1 Season   \n",
       "2  United States 2021-09-24  TV-MA  1 Season   \n",
       "3         Brazil 2021-09-22  TV-PG    91 min   \n",
       "4  United States 2021-09-24  TV-MA   125 min   \n",
       "\n",
       "                                           listed_in  \n",
       "0                                      Documentaries  \n",
       "1  Crime TV Shows, International TV Shows, TV Act...  \n",
       "2                 TV Dramas, TV Horror, TV Mysteries  \n",
       "3                 Children & Family Movies, Comedies  \n",
       "4   Dramas, Independent Movies, International Movies  "
      ]
     },
     "execution_count": 16,
     "metadata": {},
     "output_type": "execute_result"
    }
   ],
   "source": [
    "dt.head()"
   ]
  },
  {
   "cell_type": "markdown",
   "id": "b79413d3-8ab9-4efa-bf23-4b418397716e",
   "metadata": {},
   "source": [
    "#### 3. Addressing the Title Column with the wrong case to have a proper case to improve the data's readability and ensure the ratings column has replaced the correct rating names."
   ]
  },
  {
   "cell_type": "code",
   "execution_count": 17,
   "id": "2a326077-19c4-4709-a8d9-7d54fd08d2f8",
   "metadata": {},
   "outputs": [],
   "source": [
    "# standardize the title column to have proper case\n",
    "stopwords = ['is', 'a', 'an', 'the', 'and', 'or', 'but']\n",
    "dt['title'] = dt['title'].apply(lambda x: ' '.join(word if word in stopwords else word.capitalize() for word in x.split()))"
   ]
  },
  {
   "cell_type": "code",
   "execution_count": 18,
   "id": "c515ad90-0bd9-40e8-8b48-b80f97d0bf27",
   "metadata": {},
   "outputs": [],
   "source": [
    "#Ensure the 'Rating' column has the correct Rating name using the replace function\n",
    "dt['rating'] = dt['rating'].replace({'r': 'R', 'tv14': 'TV14', 'TVPg': 'TVPG', 'tvma': 'TVMA', 'pg': 'PG',\n",
    "                                 'nr': 'NR','tvy' : 'TVY','tvpg' : 'TVPG' })"
   ]
  },
  {
   "cell_type": "code",
   "execution_count": 19,
   "id": "c32a4b67-7512-4ee1-8854-4577d715e027",
   "metadata": {},
   "outputs": [
    {
     "data": {
      "text/html": [
       "<div>\n",
       "<style scoped>\n",
       "    .dataframe tbody tr th:only-of-type {\n",
       "        vertical-align: middle;\n",
       "    }\n",
       "\n",
       "    .dataframe tbody tr th {\n",
       "        vertical-align: top;\n",
       "    }\n",
       "\n",
       "    .dataframe thead th {\n",
       "        text-align: right;\n",
       "    }\n",
       "</style>\n",
       "<table border=\"1\" class=\"dataframe\">\n",
       "  <thead>\n",
       "    <tr style=\"text-align: right;\">\n",
       "      <th></th>\n",
       "      <th>show_id</th>\n",
       "      <th>Type</th>\n",
       "      <th>title</th>\n",
       "      <th>director</th>\n",
       "      <th>Country</th>\n",
       "      <th>date added</th>\n",
       "      <th>rating</th>\n",
       "      <th>duration</th>\n",
       "      <th>listed_in</th>\n",
       "    </tr>\n",
       "  </thead>\n",
       "  <tbody>\n",
       "    <tr>\n",
       "      <th>0</th>\n",
       "      <td>s1</td>\n",
       "      <td>Movie</td>\n",
       "      <td>Dick Johnson Is Dead</td>\n",
       "      <td>Kirsten Johnson</td>\n",
       "      <td>United States</td>\n",
       "      <td>2021-09-25</td>\n",
       "      <td>PG-13</td>\n",
       "      <td>90 min</td>\n",
       "      <td>Documentaries</td>\n",
       "    </tr>\n",
       "    <tr>\n",
       "      <th>1</th>\n",
       "      <td>s3</td>\n",
       "      <td>TV Show</td>\n",
       "      <td>Ganglands</td>\n",
       "      <td>Julien Leclercq</td>\n",
       "      <td>France</td>\n",
       "      <td>2021-09-24</td>\n",
       "      <td>TV-MA</td>\n",
       "      <td>1 Season</td>\n",
       "      <td>Crime TV Shows, International TV Shows, TV Act...</td>\n",
       "    </tr>\n",
       "    <tr>\n",
       "      <th>2</th>\n",
       "      <td>s6</td>\n",
       "      <td>TV Show</td>\n",
       "      <td>Midnight Mass</td>\n",
       "      <td>Mike Flanagan</td>\n",
       "      <td>United States</td>\n",
       "      <td>2021-09-24</td>\n",
       "      <td>TV-MA</td>\n",
       "      <td>1 Season</td>\n",
       "      <td>TV Dramas, TV Horror, TV Mysteries</td>\n",
       "    </tr>\n",
       "    <tr>\n",
       "      <th>3</th>\n",
       "      <td>s14</td>\n",
       "      <td>Movie</td>\n",
       "      <td>Confessions Of An Invisible Girl</td>\n",
       "      <td>Bruno Garotti</td>\n",
       "      <td>Brazil</td>\n",
       "      <td>2021-09-22</td>\n",
       "      <td>TV-PG</td>\n",
       "      <td>91 min</td>\n",
       "      <td>Children &amp; Family Movies, Comedies</td>\n",
       "    </tr>\n",
       "    <tr>\n",
       "      <th>4</th>\n",
       "      <td>s8</td>\n",
       "      <td>Movie</td>\n",
       "      <td>Sankofa</td>\n",
       "      <td>Haile Gerima</td>\n",
       "      <td>United States</td>\n",
       "      <td>2021-09-24</td>\n",
       "      <td>TV-MA</td>\n",
       "      <td>125 min</td>\n",
       "      <td>Dramas, Independent Movies, International Movies</td>\n",
       "    </tr>\n",
       "  </tbody>\n",
       "</table>\n",
       "</div>"
      ],
      "text/plain": [
       "  show_id     Type                             title         director  \\\n",
       "0      s1    Movie              Dick Johnson Is Dead  Kirsten Johnson   \n",
       "1      s3  TV Show                         Ganglands  Julien Leclercq   \n",
       "2      s6  TV Show                     Midnight Mass    Mike Flanagan   \n",
       "3     s14    Movie  Confessions Of An Invisible Girl    Bruno Garotti   \n",
       "4      s8    Movie                           Sankofa     Haile Gerima   \n",
       "\n",
       "         Country date added rating  duration  \\\n",
       "0  United States 2021-09-25  PG-13    90 min   \n",
       "1         France 2021-09-24  TV-MA  1 Season   \n",
       "2  United States 2021-09-24  TV-MA  1 Season   \n",
       "3         Brazil 2021-09-22  TV-PG    91 min   \n",
       "4  United States 2021-09-24  TV-MA   125 min   \n",
       "\n",
       "                                           listed_in  \n",
       "0                                      Documentaries  \n",
       "1  Crime TV Shows, International TV Shows, TV Act...  \n",
       "2                 TV Dramas, TV Horror, TV Mysteries  \n",
       "3                 Children & Family Movies, Comedies  \n",
       "4   Dramas, Independent Movies, International Movies  "
      ]
     },
     "execution_count": 19,
     "metadata": {},
     "output_type": "execute_result"
    }
   ],
   "source": [
    "dt.head()"
   ]
  },
  {
   "cell_type": "markdown",
   "id": "90b4f4d6-d195-45d5-b11d-179158f3a479",
   "metadata": {},
   "source": [
    "#### 4. Addressing inconsistent characters in the columns "
   ]
  },
  {
   "cell_type": "code",
   "execution_count": 20,
   "id": "5efe3ba4-d4a8-4f22-9b82-8fc4160dfc46",
   "metadata": {},
   "outputs": [
    {
     "name": "stdout",
     "output_type": "stream",
     "text": [
      "     show_id     Type                             title         director  \\\n",
      "0         s1    Movie              Dick Johnson Is Dead  Kirsten Johnson   \n",
      "1         s3  TV Show                         Ganglands  Julien Leclercq   \n",
      "2         s6  TV Show                     Midnight Mass    Mike Flanagan   \n",
      "3        s14    Movie  Confessions Of An Invisible Girl    Bruno Garotti   \n",
      "4         s8    Movie                           Sankofa     Haile Gerima   \n",
      "...      ...      ...                               ...              ...   \n",
      "8785   s8797  TV Show                        Yunus Emre        Not Given   \n",
      "8786   s8798  TV Show                         Zak Storm        Not Given   \n",
      "8787   s8801  TV Show                Zindagi Gulzar Hai        Not Given   \n",
      "8788   s8784  TV Show                              Yoko        Not Given   \n",
      "8789   s8786  TV Show                               Yom        Not Given   \n",
      "\n",
      "            Country date added rating   duration  \\\n",
      "0     United States 2021-09-25   PG13     90 min   \n",
      "1            France 2021-09-24   TVMA   1 Season   \n",
      "2     United States 2021-09-24   TVMA   1 Season   \n",
      "3            Brazil 2021-09-22   TVPG     91 min   \n",
      "4     United States 2021-09-24   TVMA    125 min   \n",
      "...             ...        ...    ...        ...   \n",
      "8785         Turkey 2017-01-17   TVPG  2 Seasons   \n",
      "8786  United States 2018-09-13   TVY7  3 Seasons   \n",
      "8787       Pakistan 2016-12-15   TVPG   1 Season   \n",
      "8788       Pakistan 2018-06-23    TVY   1 Season   \n",
      "8789       Pakistan 2018-06-07   TVY7   1 Season   \n",
      "\n",
      "                                              listed_in  \n",
      "0                                         Documentaries  \n",
      "1     Crime TV Shows International TV Shows TV Actio...  \n",
      "2                      TV Dramas TV Horror TV Mysteries  \n",
      "3                      Children  Family Movies Comedies  \n",
      "4        Dramas Independent Movies International Movies  \n",
      "...                                                 ...  \n",
      "8785                   International TV Shows TV Dramas  \n",
      "8786                                            Kids TV  \n",
      "8787  International TV Shows Romantic TV Shows TV Dr...  \n",
      "8788                                            Kids TV  \n",
      "8789                                            Kids TV  \n",
      "\n",
      "[8790 rows x 9 columns]\n"
     ]
    }
   ],
   "source": [
    "# Function to clean inconsistent characters in a column\n",
    "def clean_inconsistent_characters(column):\n",
    "    cleaned_column = []\n",
    "    for value in column:\n",
    "        if isinstance(value, str):  # Check if the value is a string\n",
    "            cleaned_value = ''.join(char for char in value if char.isalnum() or char.isspace())  # Keep alphanumeric characters and spaces\n",
    "            cleaned_column.append(cleaned_value.strip())  # Strip leading and trailing whitespace\n",
    "        else:\n",
    "            cleaned_column.append(value)  # Keep non-string values as they are\n",
    "    return cleaned_column\n",
    "\n",
    "# Clean inconsistent characters in each column\n",
    "for column in dt.columns:\n",
    "    dt[column] = clean_inconsistent_characters(dt[column])\n",
    "\n",
    "# Display the cleaned DataFrame\n",
    "print(dt)"
   ]
  },
  {
   "cell_type": "code",
   "execution_count": 21,
   "id": "e86a7894-cb5c-4a26-b545-adb7b5b676f7",
   "metadata": {},
   "outputs": [
    {
     "name": "stdout",
     "output_type": "stream",
     "text": [
      "Column \"show_id\": set()\n",
      "Column \"Type\": set()\n",
      "Column \"title\": set()\n",
      "Column \"director\": set()\n",
      "Column \"Country\": set()\n",
      "Column \"date added\": set()\n",
      "Column \"rating\": set()\n",
      "Column \"duration\": set()\n",
      "Column \"listed_in\": set()\n"
     ]
    }
   ],
   "source": [
    "# Cross Checking that all inconsistent character has been cleaned \n",
    "\n",
    "# Function to check for inconsistent characters in a column\n",
    "def check_inconsistent_characters(column):\n",
    "    inconsistent_characters = set()\n",
    "    for value in column:\n",
    "        if isinstance(value, str):  # Check if the value is a string\n",
    "            for char in value:\n",
    "                if not char.isalnum() and not char.isspace():  # Check if the character is not alphanumeric or a space\n",
    "                    inconsistent_characters.add(char)\n",
    "    return inconsistent_characters\n",
    "\n",
    "# Iterate over each column and check for inconsistent characters\n",
    "inconsistent_characters_per_column = {}\n",
    "for column in dt.columns:\n",
    "    inconsistent_characters = check_inconsistent_characters(dt[column])\n",
    "    inconsistent_characters_per_column[column] = inconsistent_characters\n",
    "\n",
    "# Display the inconsistent characters found in each column\n",
    "for column, chars in inconsistent_characters_per_column.items():\n",
    "    print(f'Column \"{column}\": {chars}')"
   ]
  },
  {
   "cell_type": "markdown",
   "id": "118170a4-4c9f-426b-b88d-5f5de10a94ce",
   "metadata": {},
   "source": [
    "##### The result indicates that there are no inconsistent characters found in any of the columns in the DataFrame."
   ]
  },
  {
   "cell_type": "markdown",
   "id": "818fab70-4ad4-4066-b7f9-1d2e70d85bd6",
   "metadata": {},
   "source": [
    "#### 5.  Filtering the director column with the director name 'Not Given' for the movie title and knowing the count to address it either to replace or drop the columns with correct directory names. Also the Country column with the Country name 'Not Given' to the correct with country where the movie was shot or not "
   ]
  },
  {
   "cell_type": "code",
   "execution_count": 22,
   "id": "f64405e1-6935-498c-8902-7209e959242b",
   "metadata": {},
   "outputs": [
    {
     "name": "stdout",
     "output_type": "stream",
     "text": [
      "                               title   director\n",
      "12                    99 Songs tamil  Not Given\n",
      "17             Jailbirds New Orleans  Not Given\n",
      "18    Crime Stories India Detectives  Not Given\n",
      "33                            Jaguar  Not Given\n",
      "34                Chicago Party Aunt  Not Given\n",
      "...                              ...        ...\n",
      "8785                      Yunus Emre  Not Given\n",
      "8786                       Zak Storm  Not Given\n",
      "8787              Zindagi Gulzar Hai  Not Given\n",
      "8788                            Yoko  Not Given\n",
      "8789                             Yom  Not Given\n",
      "\n",
      "[2588 rows x 2 columns]\n"
     ]
    }
   ],
   "source": [
    "# Filter rows where the director is \"Not Given\"\n",
    "not_given_directors_dt = dt[dt['director'] == 'Not Given']\n",
    "\n",
    "# Display the title and director columns where director is \"Not Given\"\n",
    "result = not_given_directors_dt[['title', 'director']]\n",
    "print(result)"
   ]
  },
  {
   "cell_type": "code",
   "execution_count": 23,
   "id": "ee7f4640-0848-4a2f-8195-85213730e73c",
   "metadata": {},
   "outputs": [
    {
     "name": "stdout",
     "output_type": "stream",
     "text": [
      "                                                  title    Country\n",
      "23                      My Little Pony A New Generation  Not Given\n",
      "24                                     Bangkok Breaking  Not Given\n",
      "25    Europes Most Dangerous Man Otto Skorzeny In Spain  Not Given\n",
      "26                                      Samudri Lootere  Not Given\n",
      "52                                            Intrusion  Not Given\n",
      "...                                                 ...        ...\n",
      "6005             Teenage Mutant Ninja Turtles the Movie  Not Given\n",
      "6257                                    The Perfect Day  Not Given\n",
      "6366                       Tom And Jerry The Magic Ring  Not Given\n",
      "6468                              Westside Vs The World  Not Given\n",
      "6499                              Worlds Weirdest Homes  Not Given\n",
      "\n",
      "[287 rows x 2 columns]\n"
     ]
    }
   ],
   "source": [
    "# Filter rows where the Country is \"Not Given\"\n",
    "not_given_directors_dt = dt[dt['Country'] == 'Not Given']\n",
    "\n",
    "# Display the title and Country columns where Country is \"Not Given\"\n",
    "result = not_given_directors_dt[['title', 'Country']]\n",
    "print(result)"
   ]
  },
  {
   "cell_type": "markdown",
   "id": "3c255b71-1891-44dc-bf04-540b8e80ddda",
   "metadata": {},
   "source": [
    "##### The results show that the 'Director' column has approximately 2,588 instances labeled as 'Not Given,' whereas the 'Country' column has around 287 such instances. These entries could affect the accuracy of our analysis, particularly in visualization. Therefore, the best course of action is to remove the 'Director' column, which has a higher count of 'Not Given' entries, and retain the 'Country' column for consideration."
   ]
  },
  {
   "cell_type": "markdown",
   "id": "05732895-c84c-46fd-b3ca-8ef5702e279d",
   "metadata": {},
   "source": [
    "#### 6. Addressing the column that needs to be removed 'director' Column"
   ]
  },
  {
   "cell_type": "code",
   "execution_count": 25,
   "id": "11335b76-929a-4b07-80da-3b9273d473f7",
   "metadata": {},
   "outputs": [],
   "source": [
    "# Remove the 'Director' columns\n",
    "dt = dt.drop(columns=[ 'director'])"
   ]
  },
  {
   "cell_type": "code",
   "execution_count": 26,
   "id": "264c39d5-9dbd-4b66-ba9d-35a6fe83a318",
   "metadata": {},
   "outputs": [
    {
     "name": "stdout",
     "output_type": "stream",
     "text": [
      "   show_id     Type                                              title  \\\n",
      "0       s1    Movie                               Dick Johnson Is Dead   \n",
      "1       s3  TV Show                                          Ganglands   \n",
      "2       s6  TV Show                                      Midnight Mass   \n",
      "3      s14    Movie                   Confessions Of An Invisible Girl   \n",
      "4       s8    Movie                                            Sankofa   \n",
      "5       s9  TV Show                      The Great British Baking Show   \n",
      "6      s10    Movie                                       The Starling   \n",
      "7     s939    Movie                    Motu Patlu In The Game Of Zones   \n",
      "8      s13    Movie                                       Je Suis Karl   \n",
      "9     s940    Movie                           Motu Patlu In Wonderland   \n",
      "10    s941    Movie                      Motu Patlu Deep Sea Adventure   \n",
      "11    s942    Movie                            Motu Patlu Mission Moon   \n",
      "12    s852    Movie                                     99 Songs tamil   \n",
      "13    s471    Movie                         Bridgerton  The Afterparty   \n",
      "14    s730    Movie                       Bling Empire  The Afterparty   \n",
      "15    s731    Movie                          Cobra Kai  The Afterparty   \n",
      "16    s913    Movie                         The Circle  The Afterparty   \n",
      "17      s4  TV Show                              Jailbirds New Orleans   \n",
      "18     s15  TV Show                     Crime Stories India Detectives   \n",
      "19   s3232    Movie                                 True Winter Wishes   \n",
      "20   s4832  TV Show                               True Magical Friends   \n",
      "21   s4833  TV Show                              True Wonderful Wishes   \n",
      "22   s4857  TV Show                              Dance  Sing With True   \n",
      "23      s7    Movie                    My Little Pony A New Generation   \n",
      "24     s12  TV Show                                   Bangkok Breaking   \n",
      "25     s17    Movie  Europes Most Dangerous Man Otto Skorzeny In Spain   \n",
      "26   s7930    Movie                                    Samudri Lootere   \n",
      "27     s21  TV Show     Monsters Inside The 24 Faces Of Billy Milligan   \n",
      "28     s24    Movie          Go Go Cory Carson Chrissy Takes The Wheel   \n",
      "29     s25    Movie                                              Jeans   \n",
      "30     s28    Movie                                          Grown Ups   \n",
      "31     s29    Movie                                         Dark Skies   \n",
      "32     s30    Movie                                           Paranoia   \n",
      "33     s20  TV Show                                             Jaguar   \n",
      "34     s32  TV Show                                 Chicago Party Aunt   \n",
      "35     s34  TV Show                                         Squid Game   \n",
      "36     s35  TV Show                            Tayo And Little Wizards   \n",
      "37     s75  TV Show           The Worlds Most Amazing Vacation Rentals   \n",
      "38     s84  TV Show                                 Metal Shop Masters   \n",
      "39     s86  TV Show                 Pokémon Master Journeys The Series   \n",
      "40     s88  TV Show                                      Titipo Titipo   \n",
      "41     s90  TV Show                                        Mighty Raju   \n",
      "42    s101  TV Show                            Tobot Galaxy Detectives   \n",
      "43    s122  TV Show                                     Hotel Del Luna   \n",
      "44    s133  TV Show                              Brave Animated Series   \n",
      "45    s148  TV Show                                 How To Be A Cowboy   \n",
      "46    s166  TV Show                                           Oldsters   \n",
      "47    s190  TV Show                                   Bread Barbershop   \n",
      "48    s182  TV Show            Turning Point 911 And The War On Terror   \n",
      "49    s187  TV Show                                 Hometown Chachacha   \n",
      "\n",
      "           Country date added rating   duration  \\\n",
      "0    United States 2021-09-25   PG13     90 min   \n",
      "1           France 2021-09-24   TVMA   1 Season   \n",
      "2    United States 2021-09-24   TVMA   1 Season   \n",
      "3           Brazil 2021-09-22   TVPG     91 min   \n",
      "4    United States 2021-09-24   TVMA    125 min   \n",
      "5   United Kingdom 2021-09-24   TV14  9 Seasons   \n",
      "6    United States 2021-09-24   PG13    104 min   \n",
      "7            India 2021-05-01   TVY7     87 min   \n",
      "8          Germany 2021-09-23   TVMA    127 min   \n",
      "9            India 2021-05-01   TVY7     76 min   \n",
      "10           India 2021-05-01   TVY7     76 min   \n",
      "11           India 2021-05-01   TVY7     71 min   \n",
      "12        Pakistan 2021-05-21   TV14    131 min   \n",
      "13   United States 2021-07-13   TV14     39 min   \n",
      "14   United States 2021-06-12   TVMA     36 min   \n",
      "15   United States 2021-06-12   TVMA     34 min   \n",
      "16   United States 2021-05-07   TV14     35 min   \n",
      "17        Pakistan 2021-09-24   TVMA   1 Season   \n",
      "18        Pakistan 2021-09-22   TVMA   1 Season   \n",
      "19   United States 2019-11-26    TVY     46 min   \n",
      "20   United States 2018-06-15    TVY   1 Season   \n",
      "21   United States 2018-06-15    TVY   1 Season   \n",
      "22   United States 2018-05-18    TVY   1 Season   \n",
      "23       Not Given 2021-09-24     PG     91 min   \n",
      "24       Not Given 2021-09-23   TVMA   1 Season   \n",
      "25       Not Given 2021-09-22   TVMA     67 min   \n",
      "26       Not Given 2019-06-18    TVY     65 min   \n",
      "27   United States 2021-09-22   TV14   1 Season   \n",
      "28   United States 2021-09-21    TVY     61 min   \n",
      "29           India 2021-09-21   TV14    166 min   \n",
      "30   United States 2021-09-20   PG13    103 min   \n",
      "31   United States 2021-09-19   PG13     97 min   \n",
      "32   United States 2021-09-19   PG13    106 min   \n",
      "33        Pakistan 2021-09-22   TVMA   1 Season   \n",
      "34        Pakistan 2021-09-17   TVMA   1 Season   \n",
      "35        Pakistan 2021-09-17   TVMA   1 Season   \n",
      "36        Pakistan 2021-09-17   TVY7   1 Season   \n",
      "37        Pakistan 2021-09-14   TVPG  2 Seasons   \n",
      "38        Pakistan 2021-09-10   TVMA   1 Season   \n",
      "39        Pakistan 2021-09-10   TVY7   1 Season   \n",
      "40        Pakistan 2021-09-10    TVY  2 Seasons   \n",
      "41        Pakistan 2021-09-09   TVY7  4 Seasons   \n",
      "42        Pakistan 2021-09-07   TVY7  2 Seasons   \n",
      "43        Pakistan 2021-09-02   TV14   1 Season   \n",
      "44        Pakistan 2021-09-01   TVMA   1 Season   \n",
      "45        Pakistan 2021-09-01   TVPG   1 Season   \n",
      "46        Pakistan 2021-09-01   TVMA   1 Season   \n",
      "47        Pakistan 2021-08-28    TVY  2 Seasons   \n",
      "48        Pakistan 2021-09-01   TV14   1 Season   \n",
      "49        Pakistan 2021-08-29   TV14   1 Season   \n",
      "\n",
      "                                            listed_in  \n",
      "0                                       Documentaries  \n",
      "1   Crime TV Shows International TV Shows TV Actio...  \n",
      "2                    TV Dramas TV Horror TV Mysteries  \n",
      "3                    Children  Family Movies Comedies  \n",
      "4      Dramas Independent Movies International Movies  \n",
      "5                         British TV Shows Reality TV  \n",
      "6                                     Comedies Dramas  \n",
      "7    Children  Family Movies Comedies Music  Musicals  \n",
      "8                         Dramas International Movies  \n",
      "9             Children  Family Movies Music  Musicals  \n",
      "10                   Children  Family Movies Comedies  \n",
      "11                   Children  Family Movies Comedies  \n",
      "12        Dramas International Movies Music  Musicals  \n",
      "13                                             Movies  \n",
      "14                                             Movies  \n",
      "15                                             Movies  \n",
      "16                                           Comedies  \n",
      "17                              Docuseries Reality TV  \n",
      "18         British TV Shows Crime TV Shows Docuseries  \n",
      "19                            Children  Family Movies  \n",
      "20                                            Kids TV  \n",
      "21                                            Kids TV  \n",
      "22                                            Kids TV  \n",
      "23                            Children  Family Movies  \n",
      "24  Crime TV Shows International TV Shows TV Actio...  \n",
      "25                 Documentaries International Movies  \n",
      "26                            Children  Family Movies  \n",
      "27   Crime TV Shows Docuseries International TV Shows  \n",
      "28                            Children  Family Movies  \n",
      "29      Comedies International Movies Romantic Movies  \n",
      "30                                           Comedies  \n",
      "31                       Horror Movies SciFi  Fantasy  \n",
      "32                                          Thrillers  \n",
      "33  International TV Shows SpanishLanguage TV Show...  \n",
      "34                                        TV Comedies  \n",
      "35      International TV Shows TV Dramas TV Thrillers  \n",
      "36                                            Kids TV  \n",
      "37                                         Reality TV  \n",
      "38                                         Reality TV  \n",
      "39                               Anime Series Kids TV  \n",
      "40                            Kids TV Korean TV Shows  \n",
      "41                                            Kids TV  \n",
      "42                                            Kids TV  \n",
      "43  International TV Shows Romantic TV Shows TV Co...  \n",
      "44  International TV Shows TV Action  Adventure TV...  \n",
      "45                                         Reality TV  \n",
      "46  Crime TV Shows International TV Shows SpanishL...  \n",
      "47                                Kids TV TV Comedies  \n",
      "48                                         Docuseries  \n",
      "49  International TV Shows Romantic TV Shows TV Co...  \n"
     ]
    }
   ],
   "source": [
    "# Display the first 50 rows of the DataFrame with all columns\n",
    "print(dt.iloc[:50, :])"
   ]
  },
  {
   "cell_type": "code",
   "execution_count": 27,
   "id": "89b49f88-17b0-4b41-a7d9-28fbbd0fc102",
   "metadata": {},
   "outputs": [
    {
     "data": {
      "text/plain": [
       "Index(['show_id', 'Type', 'title', 'Country', 'date added', 'rating',\n",
       "       'duration', 'listed_in'],\n",
       "      dtype='object')"
      ]
     },
     "execution_count": 27,
     "metadata": {},
     "output_type": "execute_result"
    }
   ],
   "source": [
    "# Cross-Checking my columns to check the changes made  \n",
    "dt.columns"
   ]
  },
  {
   "cell_type": "code",
   "execution_count": 28,
   "id": "49ddbedf-05a8-4cd4-8424-3b7754797122",
   "metadata": {},
   "outputs": [
    {
     "data": {
      "text/plain": [
       "show_id       0\n",
       "Type          0\n",
       "title         0\n",
       "Country       0\n",
       "date added    0\n",
       "rating        0\n",
       "duration      0\n",
       "listed_in     0\n",
       "dtype: int64"
      ]
     },
     "execution_count": 28,
     "metadata": {},
     "output_type": "execute_result"
    }
   ],
   "source": [
    "# Cross Checking there are no nulls or Nan Values in the updated cleaned dataset\n",
    "dt.isna().sum()"
   ]
  },
  {
   "cell_type": "markdown",
   "id": "56354749-a497-43ae-a24c-99297d53a68c",
   "metadata": {},
   "source": [
    "##### The result shows that the director column has been removed successfully, i double checked the quality of the data to be sure it is ready for my exploratory data analysis and visualization "
   ]
  },
  {
   "cell_type": "markdown",
   "id": "aed90a73-2b06-4457-9c0c-5c5344e6c0dd",
   "metadata": {},
   "source": [
    "#### 7. Addressing incorrect values in the Listed in Column which is '1' annd '3' and replacing with the correct values "
   ]
  },
  {
   "cell_type": "code",
   "execution_count": 29,
   "id": "dcc93783-202d-4786-afdc-584ee8e36110",
   "metadata": {},
   "outputs": [],
   "source": [
    "# Ensure the 'listed in' column has the correct list name using the replace function\n",
    "dt['listed_in'] = dt['listed_in'].replace({'1': 'TV Dramas, TV Action, TV Thrillers', '3': 'Romantic Movie, Fantasy'})"
   ]
  },
  {
   "cell_type": "code",
   "execution_count": 30,
   "id": "09b4de69-b41a-405b-b51b-13bc149d3d84",
   "metadata": {},
   "outputs": [
    {
     "name": "stdout",
     "output_type": "stream",
     "text": [
      "Empty DataFrame\n",
      "Columns: [show_id, Type, title, Country, date added, rating, duration, listed_in]\n",
      "Index: []\n"
     ]
    }
   ],
   "source": [
    "# Check if '1' or '3' is present in the 'listed_in' column\n",
    "is_present = dt['listed_in'].str.contains('1|3', regex=True)\n",
    "\n",
    "# Print the rows where '1' or '3' is present in the 'listed_in' column\n",
    "print(dt[is_present])"
   ]
  },
  {
   "cell_type": "code",
   "execution_count": 31,
   "id": "63552cde-053e-4bd4-8153-182c6ed6fa98",
   "metadata": {},
   "outputs": [
    {
     "name": "stdout",
     "output_type": "stream",
     "text": [
      "     show_id     Type                     title         Country date added  \\\n",
      "6450   s8693    Movie              Walk With Me              uk 2017-12-26   \n",
      "6451   s8694    Movie               Walking Out   United States 2019-10-01   \n",
      "6452   s8695    Movie                       War   United States 2019-04-01   \n",
      "6453   s8696    Movie         War Chhod Na Yaar           India 2019-03-02   \n",
      "6454   s8697    Movie                 War Horse   United States 2019-05-06   \n",
      "...      ...      ...                       ...             ...        ...   \n",
      "7783   s4126  TV Show  The Last Of The Schmucks           Egypt 2019-02-07   \n",
      "7784   s4127  TV Show             Hidden Worlds           Egypt 2019-02-05   \n",
      "7785   s4128  TV Show                      Live     South Korea 2019-02-05   \n",
      "7786   s4130  TV Show                      Safe  United Kingdom 2019-02-05   \n",
      "7787   s4131  TV Show                     Tayee           Egypt 2019-02-05   \n",
      "\n",
      "     rating  duration                                          listed_in  \n",
      "6450   TVPG    94 min                 TV Dramas, TV Action, TV Thrillers  \n",
      "6451   PG13    96 min                Dramas Independent Movies Thrillers  \n",
      "6452      R   103 min                                  Action  Adventure  \n",
      "6453   TV14   109 min               Comedies Dramas International Movies  \n",
      "6454   PG13   147 min                                             Dramas  \n",
      "...     ...       ...                                                ...  \n",
      "7783   TVMA  1 Season                 International TV Shows TV Comedies  \n",
      "7784   TV14  1 Season    Crime TV Shows International TV Shows TV Dramas  \n",
      "7785   TVMA  1 Season  Crime TV Shows International TV Shows Korean T...  \n",
      "7786   TVMA  1 Season  British TV Shows Crime TV Shows International ...  \n",
      "7787   TVMA  1 Season                            Romantic Movie, Fantasy  \n",
      "\n",
      "[1338 rows x 8 columns]\n"
     ]
    }
   ],
   "source": [
    "# Display rows 6451 to 7788 of the DataFrame to confirm the values in listed in 1 and 3 has been corrected\n",
    "print(dt.iloc[6450:7788])"
   ]
  },
  {
   "cell_type": "markdown",
   "id": "4b61540a-d567-4d9d-a798-b41333954f83",
   "metadata": {},
   "source": [
    "##### Result shows that the value in the listed_in Column which were 1 and 3 has been corrected and the correct values has been replaced "
   ]
  },
  {
   "cell_type": "markdown",
   "id": "e84d8876-1f1f-4dae-8b1e-9e714342c6be",
   "metadata": {},
   "source": [
    "### Feature Engineering: "
   ]
  },
  {
   "cell_type": "markdown",
   "id": "af64a058-baf8-4329-9190-b34164a9c7d5",
   "metadata": {},
   "source": [
    "##### Lastly, Create the year added and  year month Column before we start our Exploratory Data Analysis and derive the necessary insights and results for our analysis"
   ]
  },
  {
   "cell_type": "markdown",
   "id": "e5db9138-7dc0-4934-b8c3-8a78cc7816d8",
   "metadata": {},
   "source": [
    "##### * Extract year and year-month from the 'date added' column:\n"
   ]
  },
  {
   "cell_type": "code",
   "execution_count": 32,
   "id": "b8d243f7-b77c-4273-9280-b8843ce86f1a",
   "metadata": {},
   "outputs": [],
   "source": [
    "# Extract year and year-month from the date added column into new columns and calculate days since added into another column \n",
    "dt['year added'] = dt['date added'].dt.year\n",
    "dt['year_month_added'] = dt['date added'].dt.to_period('M')"
   ]
  },
  {
   "cell_type": "markdown",
   "id": "9d72e144-ecad-4e8d-9eb4-ce1c4489b191",
   "metadata": {},
   "source": [
    "##### * Calculate the number of days since the content was added:"
   ]
  },
  {
   "cell_type": "code",
   "execution_count": 33,
   "id": "a9205e37-3e6d-4bca-881b-e5d35bb72176",
   "metadata": {},
   "outputs": [],
   "source": [
    "# Calculate the number of days since the movie was added\n",
    "dt['days_since_added'] = (datetime.now() - dt['date added']).dt.days"
   ]
  },
  {
   "cell_type": "code",
   "execution_count": 34,
   "id": "45fd4add-ef2a-41f2-8ebf-69994e652886",
   "metadata": {},
   "outputs": [
    {
     "data": {
      "text/html": [
       "<div>\n",
       "<style scoped>\n",
       "    .dataframe tbody tr th:only-of-type {\n",
       "        vertical-align: middle;\n",
       "    }\n",
       "\n",
       "    .dataframe tbody tr th {\n",
       "        vertical-align: top;\n",
       "    }\n",
       "\n",
       "    .dataframe thead th {\n",
       "        text-align: right;\n",
       "    }\n",
       "</style>\n",
       "<table border=\"1\" class=\"dataframe\">\n",
       "  <thead>\n",
       "    <tr style=\"text-align: right;\">\n",
       "      <th></th>\n",
       "      <th>show_id</th>\n",
       "      <th>Type</th>\n",
       "      <th>title</th>\n",
       "      <th>Country</th>\n",
       "      <th>date added</th>\n",
       "      <th>rating</th>\n",
       "      <th>duration</th>\n",
       "      <th>listed_in</th>\n",
       "      <th>year added</th>\n",
       "      <th>year_month_added</th>\n",
       "      <th>days_since_added</th>\n",
       "    </tr>\n",
       "  </thead>\n",
       "  <tbody>\n",
       "    <tr>\n",
       "      <th>0</th>\n",
       "      <td>s1</td>\n",
       "      <td>Movie</td>\n",
       "      <td>Dick Johnson Is Dead</td>\n",
       "      <td>United States</td>\n",
       "      <td>2021-09-25</td>\n",
       "      <td>PG13</td>\n",
       "      <td>90 min</td>\n",
       "      <td>Documentaries</td>\n",
       "      <td>2021</td>\n",
       "      <td>2021-09</td>\n",
       "      <td>986</td>\n",
       "    </tr>\n",
       "    <tr>\n",
       "      <th>1</th>\n",
       "      <td>s3</td>\n",
       "      <td>TV Show</td>\n",
       "      <td>Ganglands</td>\n",
       "      <td>France</td>\n",
       "      <td>2021-09-24</td>\n",
       "      <td>TVMA</td>\n",
       "      <td>1 Season</td>\n",
       "      <td>Crime TV Shows International TV Shows TV Actio...</td>\n",
       "      <td>2021</td>\n",
       "      <td>2021-09</td>\n",
       "      <td>987</td>\n",
       "    </tr>\n",
       "    <tr>\n",
       "      <th>2</th>\n",
       "      <td>s6</td>\n",
       "      <td>TV Show</td>\n",
       "      <td>Midnight Mass</td>\n",
       "      <td>United States</td>\n",
       "      <td>2021-09-24</td>\n",
       "      <td>TVMA</td>\n",
       "      <td>1 Season</td>\n",
       "      <td>TV Dramas TV Horror TV Mysteries</td>\n",
       "      <td>2021</td>\n",
       "      <td>2021-09</td>\n",
       "      <td>987</td>\n",
       "    </tr>\n",
       "    <tr>\n",
       "      <th>3</th>\n",
       "      <td>s14</td>\n",
       "      <td>Movie</td>\n",
       "      <td>Confessions Of An Invisible Girl</td>\n",
       "      <td>Brazil</td>\n",
       "      <td>2021-09-22</td>\n",
       "      <td>TVPG</td>\n",
       "      <td>91 min</td>\n",
       "      <td>Children  Family Movies Comedies</td>\n",
       "      <td>2021</td>\n",
       "      <td>2021-09</td>\n",
       "      <td>989</td>\n",
       "    </tr>\n",
       "    <tr>\n",
       "      <th>4</th>\n",
       "      <td>s8</td>\n",
       "      <td>Movie</td>\n",
       "      <td>Sankofa</td>\n",
       "      <td>United States</td>\n",
       "      <td>2021-09-24</td>\n",
       "      <td>TVMA</td>\n",
       "      <td>125 min</td>\n",
       "      <td>Dramas Independent Movies International Movies</td>\n",
       "      <td>2021</td>\n",
       "      <td>2021-09</td>\n",
       "      <td>987</td>\n",
       "    </tr>\n",
       "  </tbody>\n",
       "</table>\n",
       "</div>"
      ],
      "text/plain": [
       "  show_id     Type                             title        Country  \\\n",
       "0      s1    Movie              Dick Johnson Is Dead  United States   \n",
       "1      s3  TV Show                         Ganglands         France   \n",
       "2      s6  TV Show                     Midnight Mass  United States   \n",
       "3     s14    Movie  Confessions Of An Invisible Girl         Brazil   \n",
       "4      s8    Movie                           Sankofa  United States   \n",
       "\n",
       "  date added rating  duration  \\\n",
       "0 2021-09-25   PG13    90 min   \n",
       "1 2021-09-24   TVMA  1 Season   \n",
       "2 2021-09-24   TVMA  1 Season   \n",
       "3 2021-09-22   TVPG    91 min   \n",
       "4 2021-09-24   TVMA   125 min   \n",
       "\n",
       "                                           listed_in  year added  \\\n",
       "0                                      Documentaries        2021   \n",
       "1  Crime TV Shows International TV Shows TV Actio...        2021   \n",
       "2                   TV Dramas TV Horror TV Mysteries        2021   \n",
       "3                   Children  Family Movies Comedies        2021   \n",
       "4     Dramas Independent Movies International Movies        2021   \n",
       "\n",
       "  year_month_added  days_since_added  \n",
       "0          2021-09               986  \n",
       "1          2021-09               987  \n",
       "2          2021-09               987  \n",
       "3          2021-09               989  \n",
       "4          2021-09               987  "
      ]
     },
     "execution_count": 34,
     "metadata": {},
     "output_type": "execute_result"
    }
   ],
   "source": [
    "dt.head()"
   ]
  },
  {
   "cell_type": "code",
   "execution_count": 35,
   "id": "87eb7d53-3d52-4644-8634-38b61d024be4",
   "metadata": {},
   "outputs": [
    {
     "name": "stdout",
     "output_type": "stream",
     "text": [
      "<class 'pandas.core.frame.DataFrame'>\n",
      "RangeIndex: 8790 entries, 0 to 8789\n",
      "Data columns (total 11 columns):\n",
      " #   Column            Non-Null Count  Dtype         \n",
      "---  ------            --------------  -----         \n",
      " 0   show_id           8790 non-null   object        \n",
      " 1   Type              8790 non-null   object        \n",
      " 2   title             8790 non-null   object        \n",
      " 3   Country           8790 non-null   object        \n",
      " 4   date added        8790 non-null   datetime64[ns]\n",
      " 5   rating            8790 non-null   object        \n",
      " 6   duration          8790 non-null   object        \n",
      " 7   listed_in         8790 non-null   object        \n",
      " 8   year added        8790 non-null   int32         \n",
      " 9   year_month_added  8790 non-null   period[M]     \n",
      " 10  days_since_added  8790 non-null   int64         \n",
      "dtypes: datetime64[ns](1), int32(1), int64(1), object(7), period[M](1)\n",
      "memory usage: 721.2+ KB\n"
     ]
    }
   ],
   "source": [
    "dt.info()"
   ]
  },
  {
   "cell_type": "code",
   "execution_count": 36,
   "id": "8c265182-08a6-44bc-b62b-77aac7ed9b5a",
   "metadata": {},
   "outputs": [
    {
     "data": {
      "text/plain": [
       "show_id             0\n",
       "Type                0\n",
       "title               0\n",
       "Country             0\n",
       "date added          0\n",
       "rating              0\n",
       "duration            0\n",
       "listed_in           0\n",
       "year added          0\n",
       "year_month_added    0\n",
       "days_since_added    0\n",
       "dtype: int64"
      ]
     },
     "execution_count": 36,
     "metadata": {},
     "output_type": "execute_result"
    }
   ],
   "source": [
    "dt.isnull().sum()"
   ]
  },
  {
   "cell_type": "code",
   "execution_count": 37,
   "id": "63961137-93b9-4913-882e-cfbc24ad9f50",
   "metadata": {},
   "outputs": [
    {
     "data": {
      "text/plain": [
       "show_id             0\n",
       "Type                0\n",
       "title               0\n",
       "Country             0\n",
       "date added          0\n",
       "rating              0\n",
       "duration            0\n",
       "listed_in           0\n",
       "year added          0\n",
       "year_month_added    0\n",
       "days_since_added    0\n",
       "dtype: int64"
      ]
     },
     "execution_count": 37,
     "metadata": {},
     "output_type": "execute_result"
    }
   ],
   "source": [
    "dt.isna().sum()"
   ]
  },
  {
   "cell_type": "code",
   "execution_count": 38,
   "id": "a28f773a-bcff-43f4-9ae0-fce7f9546005",
   "metadata": {},
   "outputs": [],
   "source": [
    "# Saving the cleaned dataset and renaming as a separate dataset\n",
    "dt.to_csv(\"MovieData.csv\")"
   ]
  },
  {
   "cell_type": "markdown",
   "id": "87e61390-8acd-49b3-b1c1-c0ef2950227b",
   "metadata": {},
   "source": [
    "##### Our Data is thoroughly cleaned and now ready for EDA and Visualization "
   ]
  },
  {
   "cell_type": "markdown",
   "id": "5ed78639-b34c-4ab5-a0e4-920580384937",
   "metadata": {},
   "source": [
    "## Answer Specific Questions for My Analysis"
   ]
  },
  {
   "cell_type": "code",
   "execution_count": 2,
   "id": "60248e55-6cb9-420d-ae47-105d177805a4",
   "metadata": {},
   "outputs": [],
   "source": [
    "# Import necessary Libraries \n",
    "import pandas as pd\n",
    "import numpy as np\n",
    "import matplotlib.pyplot as plt\n",
    "import seaborn as sns\n",
    "\n",
    "# Load clean data \n",
    "cleaned_data = pd.read_csv(\"MovieData.csv\")"
   ]
  },
  {
   "cell_type": "code",
   "execution_count": 3,
   "id": "da4c56e0-0201-479b-a9e7-80f094818926",
   "metadata": {},
   "outputs": [
    {
     "data": {
      "text/html": [
       "<div>\n",
       "<style scoped>\n",
       "    .dataframe tbody tr th:only-of-type {\n",
       "        vertical-align: middle;\n",
       "    }\n",
       "\n",
       "    .dataframe tbody tr th {\n",
       "        vertical-align: top;\n",
       "    }\n",
       "\n",
       "    .dataframe thead th {\n",
       "        text-align: right;\n",
       "    }\n",
       "</style>\n",
       "<table border=\"1\" class=\"dataframe\">\n",
       "  <thead>\n",
       "    <tr style=\"text-align: right;\">\n",
       "      <th></th>\n",
       "      <th>Unnamed: 0</th>\n",
       "      <th>show_id</th>\n",
       "      <th>Type</th>\n",
       "      <th>title</th>\n",
       "      <th>Country</th>\n",
       "      <th>date added</th>\n",
       "      <th>rating</th>\n",
       "      <th>duration</th>\n",
       "      <th>listed_in</th>\n",
       "      <th>year added</th>\n",
       "      <th>year_month_added</th>\n",
       "      <th>days_since_added</th>\n",
       "    </tr>\n",
       "  </thead>\n",
       "  <tbody>\n",
       "    <tr>\n",
       "      <th>0</th>\n",
       "      <td>0</td>\n",
       "      <td>s1</td>\n",
       "      <td>Movie</td>\n",
       "      <td>Dick Johnson Is Dead</td>\n",
       "      <td>United States</td>\n",
       "      <td>2021-09-25</td>\n",
       "      <td>PG13</td>\n",
       "      <td>90 min</td>\n",
       "      <td>Documentaries</td>\n",
       "      <td>2021</td>\n",
       "      <td>2021-09</td>\n",
       "      <td>986</td>\n",
       "    </tr>\n",
       "    <tr>\n",
       "      <th>1</th>\n",
       "      <td>1</td>\n",
       "      <td>s3</td>\n",
       "      <td>TV Show</td>\n",
       "      <td>Ganglands</td>\n",
       "      <td>France</td>\n",
       "      <td>2021-09-24</td>\n",
       "      <td>TVMA</td>\n",
       "      <td>1 Season</td>\n",
       "      <td>Crime TV Shows International TV Shows TV Actio...</td>\n",
       "      <td>2021</td>\n",
       "      <td>2021-09</td>\n",
       "      <td>987</td>\n",
       "    </tr>\n",
       "    <tr>\n",
       "      <th>2</th>\n",
       "      <td>2</td>\n",
       "      <td>s6</td>\n",
       "      <td>TV Show</td>\n",
       "      <td>Midnight Mass</td>\n",
       "      <td>United States</td>\n",
       "      <td>2021-09-24</td>\n",
       "      <td>TVMA</td>\n",
       "      <td>1 Season</td>\n",
       "      <td>TV Dramas TV Horror TV Mysteries</td>\n",
       "      <td>2021</td>\n",
       "      <td>2021-09</td>\n",
       "      <td>987</td>\n",
       "    </tr>\n",
       "    <tr>\n",
       "      <th>3</th>\n",
       "      <td>3</td>\n",
       "      <td>s14</td>\n",
       "      <td>Movie</td>\n",
       "      <td>Confessions Of An Invisible Girl</td>\n",
       "      <td>Brazil</td>\n",
       "      <td>2021-09-22</td>\n",
       "      <td>TVPG</td>\n",
       "      <td>91 min</td>\n",
       "      <td>Children  Family Movies Comedies</td>\n",
       "      <td>2021</td>\n",
       "      <td>2021-09</td>\n",
       "      <td>989</td>\n",
       "    </tr>\n",
       "    <tr>\n",
       "      <th>4</th>\n",
       "      <td>4</td>\n",
       "      <td>s8</td>\n",
       "      <td>Movie</td>\n",
       "      <td>Sankofa</td>\n",
       "      <td>United States</td>\n",
       "      <td>2021-09-24</td>\n",
       "      <td>TVMA</td>\n",
       "      <td>125 min</td>\n",
       "      <td>Dramas Independent Movies International Movies</td>\n",
       "      <td>2021</td>\n",
       "      <td>2021-09</td>\n",
       "      <td>987</td>\n",
       "    </tr>\n",
       "  </tbody>\n",
       "</table>\n",
       "</div>"
      ],
      "text/plain": [
       "   Unnamed: 0 show_id     Type                             title  \\\n",
       "0           0      s1    Movie              Dick Johnson Is Dead   \n",
       "1           1      s3  TV Show                         Ganglands   \n",
       "2           2      s6  TV Show                     Midnight Mass   \n",
       "3           3     s14    Movie  Confessions Of An Invisible Girl   \n",
       "4           4      s8    Movie                           Sankofa   \n",
       "\n",
       "         Country  date added rating  duration  \\\n",
       "0  United States  2021-09-25   PG13    90 min   \n",
       "1         France  2021-09-24   TVMA  1 Season   \n",
       "2  United States  2021-09-24   TVMA  1 Season   \n",
       "3         Brazil  2021-09-22   TVPG    91 min   \n",
       "4  United States  2021-09-24   TVMA   125 min   \n",
       "\n",
       "                                           listed_in  year added  \\\n",
       "0                                      Documentaries        2021   \n",
       "1  Crime TV Shows International TV Shows TV Actio...        2021   \n",
       "2                   TV Dramas TV Horror TV Mysteries        2021   \n",
       "3                   Children  Family Movies Comedies        2021   \n",
       "4     Dramas Independent Movies International Movies        2021   \n",
       "\n",
       "  year_month_added  days_since_added  \n",
       "0          2021-09               986  \n",
       "1          2021-09               987  \n",
       "2          2021-09               987  \n",
       "3          2021-09               989  \n",
       "4          2021-09               987  "
      ]
     },
     "execution_count": 3,
     "metadata": {},
     "output_type": "execute_result"
    }
   ],
   "source": [
    "cleaned_data.head()"
   ]
  },
  {
   "cell_type": "code",
   "execution_count": 4,
   "id": "063ce157-e106-4fa5-8d54-8b1c7ee585cd",
   "metadata": {},
   "outputs": [
    {
     "name": "stdout",
     "output_type": "stream",
     "text": [
      "<class 'pandas.core.frame.DataFrame'>\n",
      "RangeIndex: 8790 entries, 0 to 8789\n",
      "Data columns (total 12 columns):\n",
      " #   Column            Non-Null Count  Dtype \n",
      "---  ------            --------------  ----- \n",
      " 0   Unnamed: 0        8790 non-null   int64 \n",
      " 1   show_id           8790 non-null   object\n",
      " 2   Type              8790 non-null   object\n",
      " 3   title             8790 non-null   object\n",
      " 4   Country           8790 non-null   object\n",
      " 5   date added        8790 non-null   object\n",
      " 6   rating            8790 non-null   object\n",
      " 7   duration          8790 non-null   object\n",
      " 8   listed_in         8790 non-null   object\n",
      " 9   year added        8790 non-null   int64 \n",
      " 10  year_month_added  8790 non-null   object\n",
      " 11  days_since_added  8790 non-null   int64 \n",
      "dtypes: int64(3), object(9)\n",
      "memory usage: 824.2+ KB\n"
     ]
    }
   ],
   "source": [
    "cleaned_data.info()"
   ]
  },
  {
   "cell_type": "code",
   "execution_count": 5,
   "id": "6747be1a-d05d-4435-9b3b-e41d2060cc60",
   "metadata": {},
   "outputs": [
    {
     "data": {
      "text/plain": [
       "Unnamed: 0          0\n",
       "show_id             0\n",
       "Type                0\n",
       "title               0\n",
       "Country             0\n",
       "date added          0\n",
       "rating              0\n",
       "duration            0\n",
       "listed_in           0\n",
       "year added          0\n",
       "year_month_added    0\n",
       "days_since_added    0\n",
       "dtype: int64"
      ]
     },
     "execution_count": 5,
     "metadata": {},
     "output_type": "execute_result"
    }
   ],
   "source": [
    "cleaned_data.isnull().sum()"
   ]
  },
  {
   "cell_type": "markdown",
   "id": "1a417f3e-7148-4132-b2c8-294bf27d83ac",
   "metadata": {},
   "source": [
    "### 1.  Countries that make the most and least movies:"
   ]
  },
  {
   "cell_type": "code",
   "execution_count": 6,
   "id": "84ce80f1-dc98-456c-be9b-36de506dce9d",
   "metadata": {},
   "outputs": [
    {
     "name": "stdout",
     "output_type": "stream",
     "text": [
      "Top 5 countries:\n",
      " United States     2954\n",
      "India             1047\n",
      "United Kingdom     622\n",
      "Pakistan           420\n",
      "Not Given          287\n",
      "Name: count, dtype: int64\n",
      "Bottom 5 countries:\n",
      " Zimbabwe        1\n",
      "Paraguay        1\n",
      "Iran            1\n",
      "West Germany    1\n",
      "Slovenia        1\n",
      "Name: count, dtype: int64\n"
     ]
    }
   ],
   "source": [
    "# Count the occurrences of each country\n",
    "country_count = cleaned_data['Country'].str.split(',', expand=True).stack().value_counts()\n",
    "\n",
    "# Top 5 and bottom 5 countries\n",
    "top_5_countries = country_count.head(5)\n",
    "bottom_5_countries = country_count.tail(5)\n",
    "print('Top 5 countries:\\n', top_5_countries)\n",
    "print('Bottom 5 countries:\\n', bottom_5_countries)"
   ]
  },
  {
   "cell_type": "markdown",
   "id": "fc151f05-daa6-4bd6-84ff-c06d848d880c",
   "metadata": {},
   "source": [
    "### 2. Most popular country-genre mix:"
   ]
  },
  {
   "cell_type": "code",
   "execution_count": 7,
   "id": "ca187a48-f299-48f2-a037-d7143afecf59",
   "metadata": {},
   "outputs": [
    {
     "name": "stdout",
     "output_type": "stream",
     "text": [
      "Most popular country-genre mix: Country      United States\n",
      "listed_in    Documentaries\n",
      "count                  230\n",
      "Name: 1869, dtype: object\n"
     ]
    }
   ],
   "source": [
    "# Split genres and count occurrences for each country\n",
    "country_genre = cleaned_data[['Country', 'listed_in']].dropna()\n",
    "country_genre['Country'] = country_genre['Country'].str.split(',')\n",
    "country_genre['listed_in'] = country_genre['listed_in'].str.split(',')\n",
    "country_genre = country_genre.explode('Country').explode('listed_in')\n",
    "country_genre_mix = country_genre.groupby(['Country', 'listed_in']).size().reset_index(name='count')\n",
    "\n",
    "# Most popular country-genre mix\n",
    "most_popular_country_genre = country_genre_mix.loc[country_genre_mix['count'].idxmax()]\n",
    "print('Most popular country-genre mix:', most_popular_country_genre)\n"
   ]
  },
  {
   "cell_type": "markdown",
   "id": "13bd0d82-b3b6-4768-b576-72752be48f9d",
   "metadata": {},
   "source": [
    "### 3. Countries with the highest average movie duration:"
   ]
  },
  {
   "cell_type": "code",
   "execution_count": 8,
   "id": "47a2fe97-b903-4517-a344-67ac4a0a64fe",
   "metadata": {},
   "outputs": [
    {
     "data": {
      "text/plain": [
       "Country\n",
       "Croatia         157.000000\n",
       "West Germany    150.000000\n",
       "Soviet Union    147.000000\n",
       "Cameroon        143.000000\n",
       "India           125.057911\n",
       "Name: duration, dtype: float64"
      ]
     },
     "execution_count": 8,
     "metadata": {},
     "output_type": "execute_result"
    }
   ],
   "source": [
    "# Filter only movies\n",
    "movies = cleaned_data[cleaned_data['Type'] == 'Movie'].copy()\n",
    "\n",
    "# Extract numeric part from 'duration' and convert to integers\n",
    "movies['duration'] = movies['duration'].str.extract('(\\d+)').astype(float)\n",
    "\n",
    "# Group by country and calculate average duration\n",
    "avg_duration_by_country = movies.groupby('Country')['duration'].mean().sort_values(ascending=False)\n",
    "\n",
    "# Display the top countries\n",
    "avg_duration_by_country.head()"
   ]
  },
  {
   "cell_type": "markdown",
   "id": "da92bb1a-52ce-447a-a52c-a9a3244cba04",
   "metadata": {},
   "source": [
    "### 4.  Movie trends over the years:"
   ]
  },
  {
   "cell_type": "code",
   "execution_count": 9,
   "id": "b59c9ea9-64ea-4b56-ab55-66d851f84e1f",
   "metadata": {},
   "outputs": [
    {
     "data": {
      "text/plain": [
       "year added\n",
       "2008       2\n",
       "2009       2\n",
       "2010       1\n",
       "2011      13\n",
       "2012       3\n",
       "2013      11\n",
       "2014      24\n",
       "2015      82\n",
       "2016     426\n",
       "2017    1185\n",
       "2018    1648\n",
       "2019    2016\n",
       "2020    1879\n",
       "2021    1498\n",
       "Name: count, dtype: int64"
      ]
     },
     "execution_count": 9,
     "metadata": {},
     "output_type": "execute_result"
    }
   ],
   "source": [
    "# Count movies released each year\n",
    "import pandas as pd \n",
    "\n",
    "movies_per_year = cleaned_data['year added'].value_counts().sort_index()\n",
    "movies_per_year"
   ]
  },
  {
   "cell_type": "markdown",
   "id": "15ac2a8c-d4e7-40db-a941-bf7f399ff2a2",
   "metadata": {},
   "source": [
    "# EXPLORATORY DATA ANALYSIS \n",
    "After the specific question is answered for my analysis, the following are the insights we want to derive from this data"
   ]
  },
  {
   "cell_type": "markdown",
   "id": "acb6c56f-82d3-4e62-a449-5f6cfdbb793f",
   "metadata": {},
   "source": [
    "### 1. Movie Trend Over the Years:"
   ]
  },
  {
   "cell_type": "code",
   "execution_count": 10,
   "id": "0dc1f6da-31b3-471f-99cd-249b5a96ed92",
   "metadata": {},
   "outputs": [
    {
     "data": {
      "image/png": "[encoded data removed]",
      "text/plain": [
       "<Figure size 1000x600 with 1 Axes>"
      ]
     },
     "metadata": {},
     "output_type": "display_data"
    }
   ],
   "source": [
    "# Group by year and count the number of movies added each year\n",
    "movie_trends = cleaned_data[cleaned_data['Type'] == 'Movie'].groupby('year added').size()\n",
    "\n",
    "# Plot the trend of movie additions over the years\n",
    "plt.figure(figsize=(10, 6))\n",
    "movie_trends.plot(kind='line', marker='*', color='purple')\n",
    "plt.title('Movie Trends Over the Years')\n",
    "plt.xlabel('Year')\n",
    "plt.ylabel('Number of Movies Added')\n",
    "plt.grid(True)\n",
    "plt.show()"
   ]
  },
  {
   "cell_type": "code",
   "execution_count": 11,
   "id": "43f730f7-ca0b-49ff-9f84-0d2ca5428daf",
   "metadata": {},
   "outputs": [
    {
     "data": {
      "image/png": "[encoded data removed]",
      "text/plain": [
       "<Figure size 1000x600 with 1 Axes>"
      ]
     },
     "metadata": {},
     "output_type": "display_data"
    }
   ],
   "source": [
    "# Group by year and count the number of TV Shows added each year\n",
    "movie_trends = cleaned_data[cleaned_data['Type'] == 'TV Show'].groupby('year added').size()\n",
    "\n",
    "# Plot the trend of Tv show additions over the years\n",
    "plt.figure(figsize=(10, 6))\n",
    "movie_trends.plot(kind='line', marker='*', color='blue')\n",
    "plt.title('TV Show Trends Over the Years')\n",
    "plt.xlabel('Year')\n",
    "plt.ylabel('Number of TV Shows Added')\n",
    "plt.grid(True)\n",
    "plt.show()"
   ]
  },
  {
   "cell_type": "markdown",
   "id": "460acba8-c16e-4d42-9d5b-4807714f1c2d",
   "metadata": {},
   "source": [
    "#### RESULT: The trend shows that the number of movies and TV Shows added to Netflix has been up and down since 2008. However, there was a noticeable increase starting in 2016, reaching its peak in 2019, and then dropping again after 2020. This suggests changes in how Netflix adds movies and TV shows over time, possibly based on what viewers want to watch or market dynamics."
   ]
  },
  {
   "cell_type": "markdown",
   "id": "d1fcd7eb-17af-44a8-b640-b3aace230cfe",
   "metadata": {},
   "source": [
    "### 2. Top 5 countries producing movies:"
   ]
  },
  {
   "cell_type": "code",
   "execution_count": 12,
   "id": "92e605ab-3b2a-4fae-bb4c-8ed49383a61b",
   "metadata": {},
   "outputs": [
    {
     "data": {
      "image/png": "[encoded data removed]",
      "text/plain": [
       "<Figure size 800x600 with 1 Axes>"
      ]
     },
     "metadata": {},
     "output_type": "display_data"
    },
    {
     "name": "stdout",
     "output_type": "stream",
     "text": [
      "United States     2954\n",
      "India             1047\n",
      "United Kingdom     622\n",
      "Pakistan           420\n",
      "Not Given          287\n",
      "Name: count, dtype: int64\n"
     ]
    }
   ],
   "source": [
    "plt.figure(figsize=(8, 6))\n",
    "ax = sns.barplot(x=top_5_countries.index, y=top_5_countries.values)\n",
    "plt.title('Top 5 Countries Producing Movies')\n",
    "plt.xlabel('Country')\n",
    "plt.ylabel('Number of Movies')\n",
    "\n",
    "# Annotate the bars with the values\n",
    "for i in ax.containers:\n",
    "    ax.bar_label(i)\n",
    "\n",
    "plt.show()\n",
    "\n",
    "print(top_5_countries.head(5))"
   ]
  },
  {
   "cell_type": "markdown",
   "id": "f96ce305-e7f6-4a59-a3df-2a7e078447ce",
   "metadata": {},
   "source": [
    "### 3. Distribution of Movie and TV Show Types"
   ]
  },
  {
   "cell_type": "code",
   "execution_count": 13,
   "id": "7057da2f-091b-45ff-9211-92c505c713b3",
   "metadata": {},
   "outputs": [
    {
     "data": {
      "image/png": "[encoded data removed]",
      "text/plain": [
       "<Figure size 300x600 with 1 Axes>"
      ]
     },
     "metadata": {},
     "output_type": "display_data"
    }
   ],
   "source": [
    "# Plot the distribution of 'Type'\n",
    "plt.figure(figsize=(3, 6))\n",
    "ax = sns.countplot(data=cleaned_data, x='Type')\n",
    "plt.title('Distribution of Movie and TV Show Types')\n",
    "plt.xlabel('Type')\n",
    "plt.ylabel('Count')\n",
    "\n",
    "# Annotate the bars with the counts\n",
    "for i in ax.containers:\n",
    "    ax.bar_label(i)\n",
    "\n",
    "plt.show()"
   ]
  },
  {
   "cell_type": "markdown",
   "id": "c7241065-ce0a-45c1-bc5f-6b05af2b781d",
   "metadata": {},
   "source": [
    "#### CODE: This code creates a bar plot showing the count of movies and TV shows in the dataset. It provides a visual representation of the proportion of each type, highlighting the content strategy of Netflix.\n",
    "\n",
    "#### RESULT: The resulting bar plot shows that movies have the highest count compared to TV shows in the dataset. This indicates that Netflix's catalog is more heavily weighted towards movies."
   ]
  },
  {
   "cell_type": "markdown",
   "id": "ec87d129-5d5b-4156-9acd-e216b3983322",
   "metadata": {},
   "source": [
    "### 4. Distribution of Ratings:"
   ]
  },
  {
   "cell_type": "code",
   "execution_count": 14,
   "id": "59ca8bdf-4250-4320-98a4-9bd935b88595",
   "metadata": {},
   "outputs": [
    {
     "data": {
      "image/png": "[encoded data removed]",
      "text/plain": [
       "<Figure size 1200x800 with 1 Axes>"
      ]
     },
     "metadata": {},
     "output_type": "display_data"
    }
   ],
   "source": [
    "# Plotting the distribution of ratings\n",
    "plt.figure(figsize=(12, 8))\n",
    "sns.countplot(data=cleaned_data, x='rating', order=cleaned_data['rating'].value_counts().index)\n",
    "plt.title('Distribution of Ratings')\n",
    "plt.xlabel('Rating')\n",
    "plt.ylabel('Count')\n",
    "plt.xticks(rotation=45)\n",
    "plt.show()"
   ]
  },
  {
   "cell_type": "markdown",
   "id": "0da32388-a107-44dc-8555-87404403e00d",
   "metadata": {},
   "source": [
    "#### Addressing the issue to make our visualization more readable from our barchart displaying the ratings "
   ]
  },
  {
   "cell_type": "code",
   "execution_count": 15,
   "id": "9c7758f2-ed40-4fe7-9302-c94865de2403",
   "metadata": {},
   "outputs": [],
   "source": [
    "# Remove leading/trailing whitespace\n",
    "cleaned_data['rating'] = cleaned_data['rating'].str.strip()\n",
    "\n",
    "# Fill missing values with a placeholder ('UNKNOWN')\n",
    "cleaned_data['rating'].fillna('UNKNOWN', inplace=True)\n",
    "\n",
    "# Capitalize the 'rating' column to uppercase\n",
    "cleaned_data['rating'] = cleaned_data['rating'].str.upper()"
   ]
  },
  {
   "cell_type": "code",
   "execution_count": 16,
   "id": "d7fe9a73-9021-4dcf-84d8-22547cd68693",
   "metadata": {},
   "outputs": [
    {
     "data": {
      "image/png": "[encoded data removed]",
      "text/plain": [
       "<Figure size 1200x600 with 1 Axes>"
      ]
     },
     "metadata": {},
     "output_type": "display_data"
    }
   ],
   "source": [
    "# Plotting the distribution of ratings \n",
    "plt.figure(figsize=(12, 6))\n",
    "ax = sns.barplot(x=cleaned_data['rating'].value_counts().index, \n",
    "                 y=cleaned_data['rating'].value_counts().values, \n",
    "                 palette='bright')\n",
    "\n",
    "plt.title('Distribution of Ratings')\n",
    "plt.xlabel('Rating')\n",
    "plt.ylabel('Count')\n",
    "plt.xticks(rotation=45)\n",
    "\n",
    "# Annotate the bars with the counts\n",
    "for p in ax.patches:\n",
    "    ax.annotate(format(p.get_height(), '.0f'), \n",
    "                (p.get_x() + p.get_width() / 2., p.get_height()), \n",
    "                ha = 'center', va = 'center', \n",
    "                xytext = (0, 7), \n",
    "                textcoords = 'offset points')\n",
    "\n",
    "plt.show()"
   ]
  },
  {
   "cell_type": "markdown",
   "id": "2b7cc309-cf21-4b78-a98e-8759d3d99605",
   "metadata": {},
   "source": [
    "#### CODE: This bar plot visualizes the distribution of different ratings in the dataset. It helps identify the dominant rating categories, which reflect the target demographics and content preferences.\n",
    "\n",
    "#### RESULT: The result illustrates the distribution of ratings for movies in the dataset. TV-MA stands out as the most frequent rating, suggesting a preference for \"mature content among viewers.\"\n"
   ]
  },
  {
   "cell_type": "markdown",
   "id": "655ad2e2-49b8-44f6-b79e-5562be4e4b98",
   "metadata": {},
   "source": [
    "### 5. Most Common Movie Titles:"
   ]
  },
  {
   "cell_type": "code",
   "execution_count": 17,
   "id": "54214aa3-9e4b-4fee-9332-3bd1b1ba976f",
   "metadata": {},
   "outputs": [
    {
     "data": {
      "image/png": "[encoded data removed]",
      "text/plain": [
       "<Figure size 1400x600 with 1 Axes>"
      ]
     },
     "metadata": {},
     "output_type": "display_data"
    }
   ],
   "source": [
    "# Title column in my cleaned_data DataFrame\n",
    "title_counts = cleaned_data['title'].value_counts().head(10)\n",
    "\n",
    "# Plotting the most common titles\n",
    "plt.figure(figsize=(14, 6))\n",
    "sns.barplot(x=title_counts.values, y=title_counts.index, palette=\"bright\")\n",
    "plt.title('Most Common Titles')\n",
    "plt.xlabel('Count')\n",
    "plt.ylabel('Title')\n",
    "plt.show()\n"
   ]
  },
  {
   "cell_type": "markdown",
   "id": "4ed03ab3-bb5f-4975-ab72-6d3113449327",
   "metadata": {},
   "source": [
    "#### RESULT: The result shows the TOP 10 Movie Titles\n",
    "Understanding the most common titles can provide insights into the popular content among Netflix users. This helps identify trends, and preferences, and potentially inform decisions regarding content acquisition and production."
   ]
  },
  {
   "cell_type": "markdown",
   "id": "adfdd040-4b3e-49bc-8c73-fed1553ff3e2",
   "metadata": {},
   "source": [
    "### 6. Most Common Movie Category: "
   ]
  },
  {
   "cell_type": "code",
   "execution_count": 18,
   "id": "ff3c4b0d-8528-4032-a65d-2ba8b4cd1788",
   "metadata": {},
   "outputs": [
    {
     "data": {
      "image/png": "[encoded data removed]",
      "text/plain": [
       "<Figure size 1400x1000 with 1 Axes>"
      ]
     },
     "metadata": {},
     "output_type": "display_data"
    }
   ],
   "source": [
    "# Getting the top 20 most common listed_in categories\n",
    "listedin_counts = cleaned_data['listed_in'].value_counts().head(20)\n",
    "\n",
    "# Plotting the distribution of Listed In categories\n",
    "plt.figure(figsize=(14, 10))\n",
    "ax = sns.barplot(x=listedin_counts.values, y=listedin_counts.index)\n",
    "plt.title('Most Common Listed In Categories')\n",
    "plt.xlabel('Count')\n",
    "plt.ylabel('Listed In Category')\n",
    "\n",
    "# Annotate the bars with the counts\n",
    "for p in ax.patches:\n",
    "    ax.annotate(format(p.get_width(), '.0f'), \n",
    "                (p.get_width(), p.get_y() + p.get_height() / 2.), \n",
    "                ha='left', va='center', \n",
    "                xytext=(4, 0),  # Adjust the horizontal offset\n",
    "                textcoords='offset points')\n",
    "\n",
    "plt.show()"
   ]
  },
  {
   "cell_type": "markdown",
   "id": "802525aa-284c-4840-b52d-925bb96e1f3d",
   "metadata": {},
   "source": [
    "#### RESULT: The result shows the Top 20 movie category \n",
    "Analyzing the most common \"listed in\" categories can reveal the dominant genres or themes within the Netflix dataset. This information is valuable for us to understand the diversity of content available and tailor recommendations to match users' interests effectively."
   ]
  },
  {
   "cell_type": "markdown",
   "id": "971d4f7d-1050-4d19-a477-3149ece4456a",
   "metadata": {},
   "source": [
    "### 7. Trend of Content Added Over Time:"
   ]
  },
  {
   "cell_type": "code",
   "execution_count": 19,
   "id": "9abfd8f0-dd7b-4b9e-b4ae-1495f80a036b",
   "metadata": {},
   "outputs": [
    {
     "name": "stderr",
     "output_type": "stream",
     "text": [
      "C:\\Users\\USER\\anaconda3\\Lib\\site-packages\\seaborn\\_oldcore.py:1119: FutureWarning: use_inf_as_na option is deprecated and will be removed in a future version. Convert inf values to NaN before operating instead.\n",
      "  with pd.option_context('mode.use_inf_as_na', True):\n",
      "C:\\Users\\USER\\anaconda3\\Lib\\site-packages\\seaborn\\_oldcore.py:1119: FutureWarning: use_inf_as_na option is deprecated and will be removed in a future version. Convert inf values to NaN before operating instead.\n",
      "  with pd.option_context('mode.use_inf_as_na', True):\n"
     ]
    },
    {
     "data": {
      "image/png": "[encoded data removed]",
      "text/plain": [
       "<Figure size 1400x800 with 1 Axes>"
      ]
     },
     "metadata": {},
     "output_type": "display_data"
    }
   ],
   "source": [
    "# Plotting the trend of content added over time\n",
    "plt.figure(figsize=(14, 8))\n",
    "content_added_trend = cleaned_data.groupby('year added').size()\n",
    "sns.lineplot(x=content_added_trend.index, y=content_added_trend.values)\n",
    "plt.title('Trend of Content Added Over Time')\n",
    "plt.xlabel('Year')\n",
    "plt.ylabel('Number of Titles Added')\n",
    "plt.show()\n"
   ]
  },
  {
   "cell_type": "markdown",
   "id": "1abd6305-132d-4cf5-8fa0-953104e70503",
   "metadata": {},
   "source": [
    "#### Result: The line plot shows how the number of titles added to Netflix has changed over the years. It reveals trends and patterns in content acquisition, indicating shifts in Netflix's content strategy over time."
   ]
  },
  {
   "cell_type": "markdown",
   "id": "4eb43f87-6074-4f02-944e-ac70f61b1c9a",
   "metadata": {},
   "source": [
    "## CORRELATION ANALYSIS \n",
    "The objective of this analysis is to investigate whether there exists any correlation between the date when content was added to Netflix and the assigned rating. Understanding such correlations can provide insights into Netflix's content strategy and viewer preferences.\n"
   ]
  },
  {
   "cell_type": "code",
   "execution_count": 24,
   "id": "26e5b8de-7278-4268-b995-39ebc764d612",
   "metadata": {},
   "outputs": [
    {
     "name": "stdout",
     "output_type": "stream",
     "text": [
      "Correlation between release date and rating:\n",
      "                     date_added_ordinal  rating_numeric\n",
      "date_added_ordinal            1.000000       -0.029293\n",
      "rating_numeric               -0.029293        1.000000\n"
     ]
    }
   ],
   "source": [
    "# Convert the 'date_added' column to datetime objects and then to ordinal\n",
    "cleaned_data['date_added'] = pd.to_datetime(cleaned_data['date added'])\n",
    "cleaned_data['date_added_ordinal'] = cleaned_data['date_added'].apply(lambda x: x.toordinal())\n",
    "\n",
    "# Map ratings to numerical values for correlation analysis\n",
    "rating_mapping = {\n",
    "    'TVY7': 1, 'TVY': 2, 'TVG': 3, 'TVPG': 4, 'PG': 5, 'PG13': 6,\n",
    "    'TV14': 7, 'R': 8, 'TVMA': 9, 'NR': 10, 'UR': 11\n",
    "}\n",
    "cleaned_data['rating_numeric'] = cleaned_data['rating'].map(rating_mapping)\n",
    "\n",
    "# Calculate correlation\n",
    "correlation = cleaned_data[['date_added_ordinal', 'rating_numeric']].corr()\n",
    "print('Correlation between release date and rating:\\n', correlation)\n"
   ]
  },
  {
   "cell_type": "markdown",
   "id": "71897f92-9230-4c01-8094-81b6a9d1cc6d",
   "metadata": {},
   "source": [
    "### Methodology:\n",
    "To conduct the analysis, the following steps were performed:\n",
    "\n",
    "### Data Preparation:\n",
    "\n",
    "The dataset containing information about Netflix content was obtained.\n",
    "The 'date_added' column, representing the date content was added, was converted into datetime objects.\n",
    "The 'date_added' column was further transformed into ordinal values to facilitate correlation analysis.\n",
    "\n",
    "### Rating Mapping:\n",
    "The categorical ratings were mapped to numerical values using a predefined mapping for correlation analysis.\n",
    "\n",
    "### Correlation Analysis:\n",
    "The correlation coefficient between the ordinal representation of the 'date_added' and the numeric representation of the ratings was calculated.\n",
    "A correlation matrix was generated to indicate the strength and direction of the linear relationship between these two variables.\n",
    "Results:\n",
    "The correlation coefficient between the 'date_added_ordinal' and 'rating_numeric' variables was approximately -0.03. This value indicates a weak negative correlation, suggesting that there is no significant linear relationship between the date when content was added to Netflix and its assigned rating."
   ]
  },
  {
   "cell_type": "code",
   "execution_count": 22,
   "id": "d7e209d0-3554-4881-835b-76d7d7713f76",
   "metadata": {},
   "outputs": [
    {
     "data": {
      "image/png": "[encoded data removed]",
      "text/plain": [
       "<Figure size 1000x600 with 1 Axes>"
      ]
     },
     "metadata": {},
     "output_type": "display_data"
    }
   ],
   "source": [
    "# Visualization\n",
    "plt.figure(figsize=(10, 6))\n",
    "sns.scatterplot(data=cleaned_data, x='date_added_ordinal', y='rating_numeric')\n",
    "plt.title('Correlation between Release Date and Rating')\n",
    "plt.xlabel('Release Date (Ordinal)')\n",
    "plt.ylabel('Rating (Numeric)')\n",
    "plt.show()"
   ]
  },
  {
   "cell_type": "markdown",
   "id": "577f2c95-807c-4c16-b258-7bbe6e1b6235",
   "metadata": {},
   "source": [
    "### The scatter plot visualization further supports this interpretation, as it demonstrates the absence of any discernible pattern or trend between the release date and the rating.\n"
   ]
  },
  {
   "cell_type": "markdown",
   "id": "926e7e45-a01f-4818-a11c-e27448aa7c56",
   "metadata": {},
   "source": [
    "### Implications:\n",
    "\n",
    "#### Viewer Preferences: \n",
    "Ratings might not significantly influence when content is added to the platform. Other factors, such as strategic release timing or content acquisition deals, could play a more significant role.\n",
    "\n",
    "#### Content Variety: \n",
    "The lack of a strong correlation suggests that Netflix adds a variety of content, catering to different audiences without a specific pattern related to ratings.\n",
    "\n",
    "#### Further Investigation:\n",
    "While the overall correlation is weak, future research could explore specific genres or time periods to see if there are more detailed patterns.\n",
    "\n",
    "\n",
    "\n",
    "\n",
    "\n",
    "\n",
    "\n",
    "#### Based on correlation analysis, it can be concluded that the timing of content addition does not appear to influence its rating on Netflix. Factors other than the release date likely play a more significant role in determining the assigned rating for Netflix content. This analysis provides valuable insights into the dynamics between content release dates and ratings on Netflix, contributing to a better understanding of the platform's viewer preferences and content strategies.\n",
    "\n",
    "\n",
    "\n",
    "\n",
    "\n",
    "\n"
   ]
  },
  {
   "cell_type": "markdown",
   "id": "39eb28e6-17d2-43ca-8d3a-96f6125e08af",
   "metadata": {},
   "source": [
    "# SUMMARY \n",
    "\n",
    "This analysis offers a comprehensive view of Netflix's content library, revealing insights into content type distribution, geographic diversity, rating patterns, and genre popularity. The weak correlation between release date and rating suggests that content ratings are independent of when they were added to the platform. These findings can help understand Netflix’s content strategy and its evolution over time.\n",
    "\n",
    "\n",
    "\n",
    "\n",
    "\n",
    "\n"
   ]
  }
 ],
 "metadata": {
  "kernelspec": {
   "display_name": "Python 3 (ipykernel)",
   "language": "python",
   "name": "python3"
  },
  "language_info": {
   "codemirror_mode": {
    "name": "ipython",
    "version": 3
   },
   "file_extension": ".py",
   "mimetype": "text/x-python",
   "name": "python",
   "nbconvert_exporter": "python",
   "pygments_lexer": "ipython3",
   "version": "3.11.7"
  }
 },
 "nbformat": 4,
 "nbformat_minor": 5
}
